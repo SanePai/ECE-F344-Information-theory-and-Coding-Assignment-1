{
  "nbformat": 4,
  "nbformat_minor": 0,
  "metadata": {
    "colab": {
      "name": "ITC.ipynb",
      "provenance": [],
      "collapsed_sections": []
    },
    "kernelspec": {
      "name": "python3",
      "display_name": "Python 3"
    }
  },
  "cells": [
    {
      "cell_type": "code",
      "metadata": {
        "id": "95hqkOOj2xbQ",
        "outputId": "40c7e7ba-83c9-4387-df53-1a415ae76db2",
        "colab": {
          "base_uri": "https://localhost:8080/",
          "height": 177
        }
      },
      "source": [
        "pip install scikit-dsp-comm"
      ],
      "execution_count": 1,
      "outputs": [
        {
          "output_type": "stream",
          "text": [
            "Requirement already satisfied: scikit-dsp-comm in /usr/local/lib/python3.6/dist-packages (1.2.0)\n",
            "Requirement already satisfied: numpy in /usr/local/lib/python3.6/dist-packages (from scikit-dsp-comm) (1.18.5)\n",
            "Requirement already satisfied: matplotlib in /usr/local/lib/python3.6/dist-packages (from scikit-dsp-comm) (3.2.2)\n",
            "Requirement already satisfied: scipy in /usr/local/lib/python3.6/dist-packages (from scikit-dsp-comm) (1.4.1)\n",
            "Requirement already satisfied: kiwisolver>=1.0.1 in /usr/local/lib/python3.6/dist-packages (from matplotlib->scikit-dsp-comm) (1.2.0)\n",
            "Requirement already satisfied: python-dateutil>=2.1 in /usr/local/lib/python3.6/dist-packages (from matplotlib->scikit-dsp-comm) (2.8.1)\n",
            "Requirement already satisfied: pyparsing!=2.0.4,!=2.1.2,!=2.1.6,>=2.0.1 in /usr/local/lib/python3.6/dist-packages (from matplotlib->scikit-dsp-comm) (2.4.7)\n",
            "Requirement already satisfied: cycler>=0.10 in /usr/local/lib/python3.6/dist-packages (from matplotlib->scikit-dsp-comm) (0.10.0)\n",
            "Requirement already satisfied: six>=1.5 in /usr/local/lib/python3.6/dist-packages (from python-dateutil>=2.1->matplotlib->scikit-dsp-comm) (1.15.0)\n"
          ],
          "name": "stdout"
        }
      ]
    },
    {
      "cell_type": "code",
      "metadata": {
        "id": "S6oDKZS-17KK"
      },
      "source": [
        "import sk_dsp_comm.fec_block as block\n",
        "import numpy as np\n",
        "import pandas as pd"
      ],
      "execution_count": 2,
      "outputs": []
    },
    {
      "cell_type": "code",
      "metadata": {
        "id": "BIODPh4ONXXs",
        "outputId": "8a91a32c-fa8d-4f13-de1b-10607402c3c8",
        "colab": {
          "base_uri": "https://localhost:8080/",
          "height": 52
        }
      },
      "source": [
        "n = int(input(\"Enter n: \\t\")) #Input the n,k values for a hamming code\n",
        "k = int(input(\"Enter k: \\t\"))\n",
        "parity = n-k"
      ],
      "execution_count": 3,
      "outputs": [
        {
          "output_type": "stream",
          "text": [
            "Enter n: \t7\n",
            "Enter k: \t4\n"
          ],
          "name": "stdout"
        }
      ]
    },
    {
      "cell_type": "code",
      "metadata": {
        "id": "JXXxElOE2qoS"
      },
      "source": [
        "hh1 = block.fec_hamming(parity) #Instantiating a fec_hamming class instance(hh1)"
      ],
      "execution_count": 4,
      "outputs": []
    },
    {
      "cell_type": "code",
      "metadata": {
        "id": "3BjF3oyr28_7",
        "outputId": "7c04b0f9-990e-460a-d853-0c43e1163b75",
        "colab": {
          "base_uri": "https://localhost:8080/",
          "height": 212
        }
      },
      "source": [
        "print(f\"n: {hh1.n} \\nk: {hh1.k}\\nGenerator Matrix:\\n{hh1.G}\\nParity Check Matrix:\\n{hh1.H}\") #n,k and generator matrix of the hamming code"
      ],
      "execution_count": 5,
      "outputs": [
        {
          "output_type": "stream",
          "text": [
            "n: 7 \n",
            "k: 4\n",
            "Generator Matrix:\n",
            "[[1 0 0 0 1 1 1]\n",
            " [0 1 0 0 1 1 0]\n",
            " [0 0 1 0 0 1 1]\n",
            " [0 0 0 1 1 0 1]]\n",
            "Parity Check Matrix:\n",
            "[[1 1 0 1 1 0 0]\n",
            " [1 1 1 0 0 1 0]\n",
            " [1 0 1 1 0 0 1]]\n"
          ],
          "name": "stdout"
        }
      ]
    },
    {
      "cell_type": "code",
      "metadata": {
        "id": "9xGSMXBo4bqU"
      },
      "source": [
        "msg_len = (2**hh1.k) - 1"
      ],
      "execution_count": 6,
      "outputs": []
    },
    {
      "cell_type": "code",
      "metadata": {
        "id": "JAZv8CEg31OE",
        "outputId": "43b1c902-43c5-409e-cb8b-516d91f744a8",
        "colab": {
          "base_uri": "https://localhost:8080/",
          "height": 35
        }
      },
      "source": [
        "msg_array = [x for x in range(msg_len+1)]\n",
        "print(f\"Message array(Decimal Form): {msg_array}\") #Creating a decimal message array"
      ],
      "execution_count": 7,
      "outputs": [
        {
          "output_type": "stream",
          "text": [
            "Message array(Decimal Form): [0, 1, 2, 3, 4, 5, 6, 7, 8, 9, 10, 11, 12, 13, 14, 15]\n"
          ],
          "name": "stdout"
        }
      ]
    },
    {
      "cell_type": "code",
      "metadata": {
        "id": "-Byc247T4zXy"
      },
      "source": [
        "def dToBi(n):\n",
        "  '''Returns a fixed length binary bit array for a given message'''  \n",
        "  return bin(n).replace(\"0b\",\"\").zfill(hh1.k) \n",
        "def tostring(aray):\n",
        "  '''Converts a bit array to a string'''\n",
        "  string = ''\n",
        "  aray = aray.tolist()\n",
        "  for i in range(len(aray)):\n",
        "    string = string + str(aray[i])\n",
        "  return string"
      ],
      "execution_count": 8,
      "outputs": []
    },
    {
      "cell_type": "code",
      "metadata": {
        "id": "-k6qK20V3Rdl"
      },
      "source": [
        "def ham(msg):\n",
        "  '''Returns a hamming encoded message for a given input message'''\n",
        "  x = np.array([int(a) for a in dToBi(msg)])\n",
        "  y = hh1.hamm_encoder(x)\n",
        "  y = np.array([int(a) for a in y])\n",
        "  return y"
      ],
      "execution_count": 9,
      "outputs": []
    },
    {
      "cell_type": "code",
      "metadata": {
        "id": "WzaEsY2S9qBe"
      },
      "source": [
        "code = [] #Empty list to hold codewords \n",
        "for i in msg_array:\n",
        "  code.append(ham(i))\n",
        "code = np.array(np.concatenate(code, axis=0)) #Concatenate the codeword(list to string)\n",
        "code.resize((2**hh1.k,hh1.n)) #Resize the codeword list\n",
        "msg_len = (2**hh1.k)-1\n",
        "Table1 = [] #Table of added codewords\n",
        "Table = []\n",
        "for i in range(msg_len+1):\n",
        "  for j in range(msg_len+1):\n",
        "    Table.append(tostring(code[i,:]^code[j,:]))\n",
        "    Table1.append((code[i,:]^code[j,:]))\n"
      ],
      "execution_count": 10,
      "outputs": []
    },
    {
      "cell_type": "code",
      "metadata": {
        "id": "pd2vKuT3JxJs",
        "outputId": "c03ddcc7-f202-471d-b375-66f3af7b58f1",
        "colab": {
          "base_uri": "https://localhost:8080/",
          "height": 52
        }
      },
      "source": [
        "code1 = [] #container to hold the original codewords in a string form\n",
        "m,n = np.shape(code)\n",
        "for i in range(m):\n",
        "  code1.append(tostring(code[i,:]))\n",
        "print(f\"Codewords:\\n{code1}\") #All possible codewords"
      ],
      "execution_count": 11,
      "outputs": [
        {
          "output_type": "stream",
          "text": [
            "Codewords:\n",
            "['0000000', '0001101', '0010011', '0011110', '0100110', '0101011', '0110101', '0111000', '1000111', '1001010', '1010100', '1011001', '1100001', '1101100', '1110010', '1111111']\n"
          ],
          "name": "stdout"
        }
      ]
    },
    {
      "cell_type": "code",
      "metadata": {
        "id": "27uxL617C2gh"
      },
      "source": [
        "Table_grid = np.array(Table) #Array to print a table\n",
        "Table_grid.resize((2**hh1.k,2**hh1.k)) # Resize the table to (2^k + 1)x(2^k + 1)"
      ],
      "execution_count": 12,
      "outputs": []
    },
    {
      "cell_type": "code",
      "metadata": {
        "id": "X6hURoihEMrR",
        "outputId": "d09552cb-6f6c-40cf-bb9f-e206be6b4dbd",
        "colab": {
          "base_uri": "https://localhost:8080/",
          "height": 35
        }
      },
      "source": [
        "np.shape(Table_grid)"
      ],
      "execution_count": 13,
      "outputs": [
        {
          "output_type": "execute_result",
          "data": {
            "text/plain": [
              "(16, 16)"
            ]
          },
          "metadata": {
            "tags": []
          },
          "execution_count": 13
        }
      ]
    },
    {
      "cell_type": "code",
      "metadata": {
        "id": "B3OqqV5KdMe-",
        "outputId": "6b90b380-64dd-4bec-bce5-0681da5bc4cc",
        "colab": {
          "base_uri": "https://localhost:8080/",
          "height": 552
        }
      },
      "source": [
        "Table_grid = pd.DataFrame(Table_grid, index = code1, columns = code1)\n",
        "print(\"Table:\\n\")\n",
        "display(Table_grid)"
      ],
      "execution_count": 14,
      "outputs": [
        {
          "output_type": "stream",
          "text": [
            "Table:\n",
            "\n"
          ],
          "name": "stdout"
        },
        {
          "output_type": "display_data",
          "data": {
            "text/html": [
              "<div>\n",
              "<style scoped>\n",
              "    .dataframe tbody tr th:only-of-type {\n",
              "        vertical-align: middle;\n",
              "    }\n",
              "\n",
              "    .dataframe tbody tr th {\n",
              "        vertical-align: top;\n",
              "    }\n",
              "\n",
              "    .dataframe thead th {\n",
              "        text-align: right;\n",
              "    }\n",
              "</style>\n",
              "<table border=\"1\" class=\"dataframe\">\n",
              "  <thead>\n",
              "    <tr style=\"text-align: right;\">\n",
              "      <th></th>\n",
              "      <th>0000000</th>\n",
              "      <th>0001101</th>\n",
              "      <th>0010011</th>\n",
              "      <th>0011110</th>\n",
              "      <th>0100110</th>\n",
              "      <th>0101011</th>\n",
              "      <th>0110101</th>\n",
              "      <th>0111000</th>\n",
              "      <th>1000111</th>\n",
              "      <th>1001010</th>\n",
              "      <th>1010100</th>\n",
              "      <th>1011001</th>\n",
              "      <th>1100001</th>\n",
              "      <th>1101100</th>\n",
              "      <th>1110010</th>\n",
              "      <th>1111111</th>\n",
              "    </tr>\n",
              "  </thead>\n",
              "  <tbody>\n",
              "    <tr>\n",
              "      <th>0000000</th>\n",
              "      <td>0000000</td>\n",
              "      <td>0001101</td>\n",
              "      <td>0010011</td>\n",
              "      <td>0011110</td>\n",
              "      <td>0100110</td>\n",
              "      <td>0101011</td>\n",
              "      <td>0110101</td>\n",
              "      <td>0111000</td>\n",
              "      <td>1000111</td>\n",
              "      <td>1001010</td>\n",
              "      <td>1010100</td>\n",
              "      <td>1011001</td>\n",
              "      <td>1100001</td>\n",
              "      <td>1101100</td>\n",
              "      <td>1110010</td>\n",
              "      <td>1111111</td>\n",
              "    </tr>\n",
              "    <tr>\n",
              "      <th>0001101</th>\n",
              "      <td>0001101</td>\n",
              "      <td>0000000</td>\n",
              "      <td>0011110</td>\n",
              "      <td>0010011</td>\n",
              "      <td>0101011</td>\n",
              "      <td>0100110</td>\n",
              "      <td>0111000</td>\n",
              "      <td>0110101</td>\n",
              "      <td>1001010</td>\n",
              "      <td>1000111</td>\n",
              "      <td>1011001</td>\n",
              "      <td>1010100</td>\n",
              "      <td>1101100</td>\n",
              "      <td>1100001</td>\n",
              "      <td>1111111</td>\n",
              "      <td>1110010</td>\n",
              "    </tr>\n",
              "    <tr>\n",
              "      <th>0010011</th>\n",
              "      <td>0010011</td>\n",
              "      <td>0011110</td>\n",
              "      <td>0000000</td>\n",
              "      <td>0001101</td>\n",
              "      <td>0110101</td>\n",
              "      <td>0111000</td>\n",
              "      <td>0100110</td>\n",
              "      <td>0101011</td>\n",
              "      <td>1010100</td>\n",
              "      <td>1011001</td>\n",
              "      <td>1000111</td>\n",
              "      <td>1001010</td>\n",
              "      <td>1110010</td>\n",
              "      <td>1111111</td>\n",
              "      <td>1100001</td>\n",
              "      <td>1101100</td>\n",
              "    </tr>\n",
              "    <tr>\n",
              "      <th>0011110</th>\n",
              "      <td>0011110</td>\n",
              "      <td>0010011</td>\n",
              "      <td>0001101</td>\n",
              "      <td>0000000</td>\n",
              "      <td>0111000</td>\n",
              "      <td>0110101</td>\n",
              "      <td>0101011</td>\n",
              "      <td>0100110</td>\n",
              "      <td>1011001</td>\n",
              "      <td>1010100</td>\n",
              "      <td>1001010</td>\n",
              "      <td>1000111</td>\n",
              "      <td>1111111</td>\n",
              "      <td>1110010</td>\n",
              "      <td>1101100</td>\n",
              "      <td>1100001</td>\n",
              "    </tr>\n",
              "    <tr>\n",
              "      <th>0100110</th>\n",
              "      <td>0100110</td>\n",
              "      <td>0101011</td>\n",
              "      <td>0110101</td>\n",
              "      <td>0111000</td>\n",
              "      <td>0000000</td>\n",
              "      <td>0001101</td>\n",
              "      <td>0010011</td>\n",
              "      <td>0011110</td>\n",
              "      <td>1100001</td>\n",
              "      <td>1101100</td>\n",
              "      <td>1110010</td>\n",
              "      <td>1111111</td>\n",
              "      <td>1000111</td>\n",
              "      <td>1001010</td>\n",
              "      <td>1010100</td>\n",
              "      <td>1011001</td>\n",
              "    </tr>\n",
              "    <tr>\n",
              "      <th>0101011</th>\n",
              "      <td>0101011</td>\n",
              "      <td>0100110</td>\n",
              "      <td>0111000</td>\n",
              "      <td>0110101</td>\n",
              "      <td>0001101</td>\n",
              "      <td>0000000</td>\n",
              "      <td>0011110</td>\n",
              "      <td>0010011</td>\n",
              "      <td>1101100</td>\n",
              "      <td>1100001</td>\n",
              "      <td>1111111</td>\n",
              "      <td>1110010</td>\n",
              "      <td>1001010</td>\n",
              "      <td>1000111</td>\n",
              "      <td>1011001</td>\n",
              "      <td>1010100</td>\n",
              "    </tr>\n",
              "    <tr>\n",
              "      <th>0110101</th>\n",
              "      <td>0110101</td>\n",
              "      <td>0111000</td>\n",
              "      <td>0100110</td>\n",
              "      <td>0101011</td>\n",
              "      <td>0010011</td>\n",
              "      <td>0011110</td>\n",
              "      <td>0000000</td>\n",
              "      <td>0001101</td>\n",
              "      <td>1110010</td>\n",
              "      <td>1111111</td>\n",
              "      <td>1100001</td>\n",
              "      <td>1101100</td>\n",
              "      <td>1010100</td>\n",
              "      <td>1011001</td>\n",
              "      <td>1000111</td>\n",
              "      <td>1001010</td>\n",
              "    </tr>\n",
              "    <tr>\n",
              "      <th>0111000</th>\n",
              "      <td>0111000</td>\n",
              "      <td>0110101</td>\n",
              "      <td>0101011</td>\n",
              "      <td>0100110</td>\n",
              "      <td>0011110</td>\n",
              "      <td>0010011</td>\n",
              "      <td>0001101</td>\n",
              "      <td>0000000</td>\n",
              "      <td>1111111</td>\n",
              "      <td>1110010</td>\n",
              "      <td>1101100</td>\n",
              "      <td>1100001</td>\n",
              "      <td>1011001</td>\n",
              "      <td>1010100</td>\n",
              "      <td>1001010</td>\n",
              "      <td>1000111</td>\n",
              "    </tr>\n",
              "    <tr>\n",
              "      <th>1000111</th>\n",
              "      <td>1000111</td>\n",
              "      <td>1001010</td>\n",
              "      <td>1010100</td>\n",
              "      <td>1011001</td>\n",
              "      <td>1100001</td>\n",
              "      <td>1101100</td>\n",
              "      <td>1110010</td>\n",
              "      <td>1111111</td>\n",
              "      <td>0000000</td>\n",
              "      <td>0001101</td>\n",
              "      <td>0010011</td>\n",
              "      <td>0011110</td>\n",
              "      <td>0100110</td>\n",
              "      <td>0101011</td>\n",
              "      <td>0110101</td>\n",
              "      <td>0111000</td>\n",
              "    </tr>\n",
              "    <tr>\n",
              "      <th>1001010</th>\n",
              "      <td>1001010</td>\n",
              "      <td>1000111</td>\n",
              "      <td>1011001</td>\n",
              "      <td>1010100</td>\n",
              "      <td>1101100</td>\n",
              "      <td>1100001</td>\n",
              "      <td>1111111</td>\n",
              "      <td>1110010</td>\n",
              "      <td>0001101</td>\n",
              "      <td>0000000</td>\n",
              "      <td>0011110</td>\n",
              "      <td>0010011</td>\n",
              "      <td>0101011</td>\n",
              "      <td>0100110</td>\n",
              "      <td>0111000</td>\n",
              "      <td>0110101</td>\n",
              "    </tr>\n",
              "    <tr>\n",
              "      <th>1010100</th>\n",
              "      <td>1010100</td>\n",
              "      <td>1011001</td>\n",
              "      <td>1000111</td>\n",
              "      <td>1001010</td>\n",
              "      <td>1110010</td>\n",
              "      <td>1111111</td>\n",
              "      <td>1100001</td>\n",
              "      <td>1101100</td>\n",
              "      <td>0010011</td>\n",
              "      <td>0011110</td>\n",
              "      <td>0000000</td>\n",
              "      <td>0001101</td>\n",
              "      <td>0110101</td>\n",
              "      <td>0111000</td>\n",
              "      <td>0100110</td>\n",
              "      <td>0101011</td>\n",
              "    </tr>\n",
              "    <tr>\n",
              "      <th>1011001</th>\n",
              "      <td>1011001</td>\n",
              "      <td>1010100</td>\n",
              "      <td>1001010</td>\n",
              "      <td>1000111</td>\n",
              "      <td>1111111</td>\n",
              "      <td>1110010</td>\n",
              "      <td>1101100</td>\n",
              "      <td>1100001</td>\n",
              "      <td>0011110</td>\n",
              "      <td>0010011</td>\n",
              "      <td>0001101</td>\n",
              "      <td>0000000</td>\n",
              "      <td>0111000</td>\n",
              "      <td>0110101</td>\n",
              "      <td>0101011</td>\n",
              "      <td>0100110</td>\n",
              "    </tr>\n",
              "    <tr>\n",
              "      <th>1100001</th>\n",
              "      <td>1100001</td>\n",
              "      <td>1101100</td>\n",
              "      <td>1110010</td>\n",
              "      <td>1111111</td>\n",
              "      <td>1000111</td>\n",
              "      <td>1001010</td>\n",
              "      <td>1010100</td>\n",
              "      <td>1011001</td>\n",
              "      <td>0100110</td>\n",
              "      <td>0101011</td>\n",
              "      <td>0110101</td>\n",
              "      <td>0111000</td>\n",
              "      <td>0000000</td>\n",
              "      <td>0001101</td>\n",
              "      <td>0010011</td>\n",
              "      <td>0011110</td>\n",
              "    </tr>\n",
              "    <tr>\n",
              "      <th>1101100</th>\n",
              "      <td>1101100</td>\n",
              "      <td>1100001</td>\n",
              "      <td>1111111</td>\n",
              "      <td>1110010</td>\n",
              "      <td>1001010</td>\n",
              "      <td>1000111</td>\n",
              "      <td>1011001</td>\n",
              "      <td>1010100</td>\n",
              "      <td>0101011</td>\n",
              "      <td>0100110</td>\n",
              "      <td>0111000</td>\n",
              "      <td>0110101</td>\n",
              "      <td>0001101</td>\n",
              "      <td>0000000</td>\n",
              "      <td>0011110</td>\n",
              "      <td>0010011</td>\n",
              "    </tr>\n",
              "    <tr>\n",
              "      <th>1110010</th>\n",
              "      <td>1110010</td>\n",
              "      <td>1111111</td>\n",
              "      <td>1100001</td>\n",
              "      <td>1101100</td>\n",
              "      <td>1010100</td>\n",
              "      <td>1011001</td>\n",
              "      <td>1000111</td>\n",
              "      <td>1001010</td>\n",
              "      <td>0110101</td>\n",
              "      <td>0111000</td>\n",
              "      <td>0100110</td>\n",
              "      <td>0101011</td>\n",
              "      <td>0010011</td>\n",
              "      <td>0011110</td>\n",
              "      <td>0000000</td>\n",
              "      <td>0001101</td>\n",
              "    </tr>\n",
              "    <tr>\n",
              "      <th>1111111</th>\n",
              "      <td>1111111</td>\n",
              "      <td>1110010</td>\n",
              "      <td>1101100</td>\n",
              "      <td>1100001</td>\n",
              "      <td>1011001</td>\n",
              "      <td>1010100</td>\n",
              "      <td>1001010</td>\n",
              "      <td>1000111</td>\n",
              "      <td>0111000</td>\n",
              "      <td>0110101</td>\n",
              "      <td>0101011</td>\n",
              "      <td>0100110</td>\n",
              "      <td>0011110</td>\n",
              "      <td>0010011</td>\n",
              "      <td>0001101</td>\n",
              "      <td>0000000</td>\n",
              "    </tr>\n",
              "  </tbody>\n",
              "</table>\n",
              "</div>"
            ],
            "text/plain": [
              "         0000000  0001101  0010011  0011110  ...  1100001  1101100  1110010  1111111\n",
              "0000000  0000000  0001101  0010011  0011110  ...  1100001  1101100  1110010  1111111\n",
              "0001101  0001101  0000000  0011110  0010011  ...  1101100  1100001  1111111  1110010\n",
              "0010011  0010011  0011110  0000000  0001101  ...  1110010  1111111  1100001  1101100\n",
              "0011110  0011110  0010011  0001101  0000000  ...  1111111  1110010  1101100  1100001\n",
              "0100110  0100110  0101011  0110101  0111000  ...  1000111  1001010  1010100  1011001\n",
              "0101011  0101011  0100110  0111000  0110101  ...  1001010  1000111  1011001  1010100\n",
              "0110101  0110101  0111000  0100110  0101011  ...  1010100  1011001  1000111  1001010\n",
              "0111000  0111000  0110101  0101011  0100110  ...  1011001  1010100  1001010  1000111\n",
              "1000111  1000111  1001010  1010100  1011001  ...  0100110  0101011  0110101  0111000\n",
              "1001010  1001010  1000111  1011001  1010100  ...  0101011  0100110  0111000  0110101\n",
              "1010100  1010100  1011001  1000111  1001010  ...  0110101  0111000  0100110  0101011\n",
              "1011001  1011001  1010100  1001010  1000111  ...  0111000  0110101  0101011  0100110\n",
              "1100001  1100001  1101100  1110010  1111111  ...  0000000  0001101  0010011  0011110\n",
              "1101100  1101100  1100001  1111111  1110010  ...  0001101  0000000  0011110  0010011\n",
              "1110010  1110010  1111111  1100001  1101100  ...  0010011  0011110  0000000  0001101\n",
              "1111111  1111111  1110010  1101100  1100001  ...  0011110  0010011  0001101  0000000\n",
              "\n",
              "[16 rows x 16 columns]"
            ]
          },
          "metadata": {
            "tags": []
          }
        }
      ]
    },
    {
      "cell_type": "markdown",
      "metadata": {
        "id": "MoXed6GWqYDT"
      },
      "source": [
        "Property 1: The all zero codeword is always a codeword."
      ]
    },
    {
      "cell_type": "code",
      "metadata": {
        "id": "dP4LNwvUqYDU",
        "outputId": "55439db0-29a4-42ad-93ed-00fa0a0b6de9",
        "colab": {
          "base_uri": "https://localhost:8080/",
          "height": 35
        }
      },
      "source": [
        "'0000000' in code1"
      ],
      "execution_count": 15,
      "outputs": [
        {
          "output_type": "execute_result",
          "data": {
            "text/plain": [
              "True"
            ]
          },
          "metadata": {
            "tags": []
          },
          "execution_count": 15
        }
      ]
    },
    {
      "cell_type": "markdown",
      "metadata": {
        "id": "gtplcqokq4FG"
      },
      "source": [
        "Property 2: The sum of two codewords belonging to the code is also a codeword belonging to the code."
      ]
    },
    {
      "cell_type": "code",
      "metadata": {
        "id": "OPxugBBxHkm9",
        "outputId": "742b5d6e-24a2-4d1d-9589-bf61e9c919c3",
        "colab": {
          "base_uri": "https://localhost:8080/",
          "height": 1000
        }
      },
      "source": [
        "#Check if all elements in 'Table' are valid codewords(elements in 'code')\n",
        "bol = True\n",
        "for i in range(len(Table)):\n",
        "  if Table[i] in code1:\n",
        "    print(\"Resultant codeword is valid\")\n",
        "  else:\n",
        "    print(\"Not Valid\")\n",
        "    bol = False\n",
        "if bol == True:\n",
        "  print(\"\\nAll codewords are valid.Hence proved.\")"
      ],
      "execution_count": 16,
      "outputs": [
        {
          "output_type": "stream",
          "text": [
            "Resultant codeword is valid\n",
            "Resultant codeword is valid\n",
            "Resultant codeword is valid\n",
            "Resultant codeword is valid\n",
            "Resultant codeword is valid\n",
            "Resultant codeword is valid\n",
            "Resultant codeword is valid\n",
            "Resultant codeword is valid\n",
            "Resultant codeword is valid\n",
            "Resultant codeword is valid\n",
            "Resultant codeword is valid\n",
            "Resultant codeword is valid\n",
            "Resultant codeword is valid\n",
            "Resultant codeword is valid\n",
            "Resultant codeword is valid\n",
            "Resultant codeword is valid\n",
            "Resultant codeword is valid\n",
            "Resultant codeword is valid\n",
            "Resultant codeword is valid\n",
            "Resultant codeword is valid\n",
            "Resultant codeword is valid\n",
            "Resultant codeword is valid\n",
            "Resultant codeword is valid\n",
            "Resultant codeword is valid\n",
            "Resultant codeword is valid\n",
            "Resultant codeword is valid\n",
            "Resultant codeword is valid\n",
            "Resultant codeword is valid\n",
            "Resultant codeword is valid\n",
            "Resultant codeword is valid\n",
            "Resultant codeword is valid\n",
            "Resultant codeword is valid\n",
            "Resultant codeword is valid\n",
            "Resultant codeword is valid\n",
            "Resultant codeword is valid\n",
            "Resultant codeword is valid\n",
            "Resultant codeword is valid\n",
            "Resultant codeword is valid\n",
            "Resultant codeword is valid\n",
            "Resultant codeword is valid\n",
            "Resultant codeword is valid\n",
            "Resultant codeword is valid\n",
            "Resultant codeword is valid\n",
            "Resultant codeword is valid\n",
            "Resultant codeword is valid\n",
            "Resultant codeword is valid\n",
            "Resultant codeword is valid\n",
            "Resultant codeword is valid\n",
            "Resultant codeword is valid\n",
            "Resultant codeword is valid\n",
            "Resultant codeword is valid\n",
            "Resultant codeword is valid\n",
            "Resultant codeword is valid\n",
            "Resultant codeword is valid\n",
            "Resultant codeword is valid\n",
            "Resultant codeword is valid\n",
            "Resultant codeword is valid\n",
            "Resultant codeword is valid\n",
            "Resultant codeword is valid\n",
            "Resultant codeword is valid\n",
            "Resultant codeword is valid\n",
            "Resultant codeword is valid\n",
            "Resultant codeword is valid\n",
            "Resultant codeword is valid\n",
            "Resultant codeword is valid\n",
            "Resultant codeword is valid\n",
            "Resultant codeword is valid\n",
            "Resultant codeword is valid\n",
            "Resultant codeword is valid\n",
            "Resultant codeword is valid\n",
            "Resultant codeword is valid\n",
            "Resultant codeword is valid\n",
            "Resultant codeword is valid\n",
            "Resultant codeword is valid\n",
            "Resultant codeword is valid\n",
            "Resultant codeword is valid\n",
            "Resultant codeword is valid\n",
            "Resultant codeword is valid\n",
            "Resultant codeword is valid\n",
            "Resultant codeword is valid\n",
            "Resultant codeword is valid\n",
            "Resultant codeword is valid\n",
            "Resultant codeword is valid\n",
            "Resultant codeword is valid\n",
            "Resultant codeword is valid\n",
            "Resultant codeword is valid\n",
            "Resultant codeword is valid\n",
            "Resultant codeword is valid\n",
            "Resultant codeword is valid\n",
            "Resultant codeword is valid\n",
            "Resultant codeword is valid\n",
            "Resultant codeword is valid\n",
            "Resultant codeword is valid\n",
            "Resultant codeword is valid\n",
            "Resultant codeword is valid\n",
            "Resultant codeword is valid\n",
            "Resultant codeword is valid\n",
            "Resultant codeword is valid\n",
            "Resultant codeword is valid\n",
            "Resultant codeword is valid\n",
            "Resultant codeword is valid\n",
            "Resultant codeword is valid\n",
            "Resultant codeword is valid\n",
            "Resultant codeword is valid\n",
            "Resultant codeword is valid\n",
            "Resultant codeword is valid\n",
            "Resultant codeword is valid\n",
            "Resultant codeword is valid\n",
            "Resultant codeword is valid\n",
            "Resultant codeword is valid\n",
            "Resultant codeword is valid\n",
            "Resultant codeword is valid\n",
            "Resultant codeword is valid\n",
            "Resultant codeword is valid\n",
            "Resultant codeword is valid\n",
            "Resultant codeword is valid\n",
            "Resultant codeword is valid\n",
            "Resultant codeword is valid\n",
            "Resultant codeword is valid\n",
            "Resultant codeword is valid\n",
            "Resultant codeword is valid\n",
            "Resultant codeword is valid\n",
            "Resultant codeword is valid\n",
            "Resultant codeword is valid\n",
            "Resultant codeword is valid\n",
            "Resultant codeword is valid\n",
            "Resultant codeword is valid\n",
            "Resultant codeword is valid\n",
            "Resultant codeword is valid\n",
            "Resultant codeword is valid\n",
            "Resultant codeword is valid\n",
            "Resultant codeword is valid\n",
            "Resultant codeword is valid\n",
            "Resultant codeword is valid\n",
            "Resultant codeword is valid\n",
            "Resultant codeword is valid\n",
            "Resultant codeword is valid\n",
            "Resultant codeword is valid\n",
            "Resultant codeword is valid\n",
            "Resultant codeword is valid\n",
            "Resultant codeword is valid\n",
            "Resultant codeword is valid\n",
            "Resultant codeword is valid\n",
            "Resultant codeword is valid\n",
            "Resultant codeword is valid\n",
            "Resultant codeword is valid\n",
            "Resultant codeword is valid\n",
            "Resultant codeword is valid\n",
            "Resultant codeword is valid\n",
            "Resultant codeword is valid\n",
            "Resultant codeword is valid\n",
            "Resultant codeword is valid\n",
            "Resultant codeword is valid\n",
            "Resultant codeword is valid\n",
            "Resultant codeword is valid\n",
            "Resultant codeword is valid\n",
            "Resultant codeword is valid\n",
            "Resultant codeword is valid\n",
            "Resultant codeword is valid\n",
            "Resultant codeword is valid\n",
            "Resultant codeword is valid\n",
            "Resultant codeword is valid\n",
            "Resultant codeword is valid\n",
            "Resultant codeword is valid\n",
            "Resultant codeword is valid\n",
            "Resultant codeword is valid\n",
            "Resultant codeword is valid\n",
            "Resultant codeword is valid\n",
            "Resultant codeword is valid\n",
            "Resultant codeword is valid\n",
            "Resultant codeword is valid\n",
            "Resultant codeword is valid\n",
            "Resultant codeword is valid\n",
            "Resultant codeword is valid\n",
            "Resultant codeword is valid\n",
            "Resultant codeword is valid\n",
            "Resultant codeword is valid\n",
            "Resultant codeword is valid\n",
            "Resultant codeword is valid\n",
            "Resultant codeword is valid\n",
            "Resultant codeword is valid\n",
            "Resultant codeword is valid\n",
            "Resultant codeword is valid\n",
            "Resultant codeword is valid\n",
            "Resultant codeword is valid\n",
            "Resultant codeword is valid\n",
            "Resultant codeword is valid\n",
            "Resultant codeword is valid\n",
            "Resultant codeword is valid\n",
            "Resultant codeword is valid\n",
            "Resultant codeword is valid\n",
            "Resultant codeword is valid\n",
            "Resultant codeword is valid\n",
            "Resultant codeword is valid\n",
            "Resultant codeword is valid\n",
            "Resultant codeword is valid\n",
            "Resultant codeword is valid\n",
            "Resultant codeword is valid\n",
            "Resultant codeword is valid\n",
            "Resultant codeword is valid\n",
            "Resultant codeword is valid\n",
            "Resultant codeword is valid\n",
            "Resultant codeword is valid\n",
            "Resultant codeword is valid\n",
            "Resultant codeword is valid\n",
            "Resultant codeword is valid\n",
            "Resultant codeword is valid\n",
            "Resultant codeword is valid\n",
            "Resultant codeword is valid\n",
            "Resultant codeword is valid\n",
            "Resultant codeword is valid\n",
            "Resultant codeword is valid\n",
            "Resultant codeword is valid\n",
            "Resultant codeword is valid\n",
            "Resultant codeword is valid\n",
            "Resultant codeword is valid\n",
            "Resultant codeword is valid\n",
            "Resultant codeword is valid\n",
            "Resultant codeword is valid\n",
            "Resultant codeword is valid\n",
            "Resultant codeword is valid\n",
            "Resultant codeword is valid\n",
            "Resultant codeword is valid\n",
            "Resultant codeword is valid\n",
            "Resultant codeword is valid\n",
            "Resultant codeword is valid\n",
            "Resultant codeword is valid\n",
            "Resultant codeword is valid\n",
            "Resultant codeword is valid\n",
            "Resultant codeword is valid\n",
            "Resultant codeword is valid\n",
            "Resultant codeword is valid\n",
            "Resultant codeword is valid\n",
            "Resultant codeword is valid\n",
            "Resultant codeword is valid\n",
            "Resultant codeword is valid\n",
            "Resultant codeword is valid\n",
            "Resultant codeword is valid\n",
            "Resultant codeword is valid\n",
            "Resultant codeword is valid\n",
            "Resultant codeword is valid\n",
            "Resultant codeword is valid\n",
            "Resultant codeword is valid\n",
            "Resultant codeword is valid\n",
            "Resultant codeword is valid\n",
            "Resultant codeword is valid\n",
            "Resultant codeword is valid\n",
            "Resultant codeword is valid\n",
            "Resultant codeword is valid\n",
            "Resultant codeword is valid\n",
            "Resultant codeword is valid\n",
            "Resultant codeword is valid\n",
            "Resultant codeword is valid\n",
            "Resultant codeword is valid\n",
            "Resultant codeword is valid\n",
            "Resultant codeword is valid\n",
            "\n",
            "All codewords are valid.Hence proved.\n"
          ],
          "name": "stdout"
        }
      ]
    },
    {
      "cell_type": "code",
      "metadata": {
        "id": "9Vf2JGCUbcxM",
        "outputId": "1fc9f201-c289-4a74-aa92-208ee4f05ba8",
        "colab": {
          "base_uri": "https://localhost:8080/",
          "height": 72
        }
      },
      "source": [
        "#Parity check implemented for all the codewords in the Table\n",
        "b = []\n",
        "for i in range(len(Table1)): \n",
        "  b.append(np.dot(Table1[i],np.transpose(hh1.H)))\n",
        "for i in range(len(b)):\n",
        "  for j in range(3):\n",
        "    if b[i][j] % 2 ==0:\n",
        "      b[i][j] = 0\n",
        "print(b)\n",
        "#Checking to see if all elements are zero\n",
        "st = False\n",
        "for i in range(len(b)):\n",
        "  for j in range(3):\n",
        "    if b[i][j] != 0:\n",
        "      st = True\n",
        "    break\n",
        "if st == False:\n",
        "  print(\"All codewords are valid\")"
      ],
      "execution_count": 17,
      "outputs": [
        {
          "output_type": "stream",
          "text": [
            "[array([0, 0, 0]), array([0, 0, 0]), array([0, 0, 0]), array([0, 0, 0]), array([0, 0, 0]), array([0, 0, 0]), array([0, 0, 0]), array([0, 0, 0]), array([0, 0, 0]), array([0, 0, 0]), array([0, 0, 0]), array([0, 0, 0]), array([0, 0, 0]), array([0, 0, 0]), array([0, 0, 0]), array([0, 0, 0]), array([0, 0, 0]), array([0, 0, 0]), array([0, 0, 0]), array([0, 0, 0]), array([0, 0, 0]), array([0, 0, 0]), array([0, 0, 0]), array([0, 0, 0]), array([0, 0, 0]), array([0, 0, 0]), array([0, 0, 0]), array([0, 0, 0]), array([0, 0, 0]), array([0, 0, 0]), array([0, 0, 0]), array([0, 0, 0]), array([0, 0, 0]), array([0, 0, 0]), array([0, 0, 0]), array([0, 0, 0]), array([0, 0, 0]), array([0, 0, 0]), array([0, 0, 0]), array([0, 0, 0]), array([0, 0, 0]), array([0, 0, 0]), array([0, 0, 0]), array([0, 0, 0]), array([0, 0, 0]), array([0, 0, 0]), array([0, 0, 0]), array([0, 0, 0]), array([0, 0, 0]), array([0, 0, 0]), array([0, 0, 0]), array([0, 0, 0]), array([0, 0, 0]), array([0, 0, 0]), array([0, 0, 0]), array([0, 0, 0]), array([0, 0, 0]), array([0, 0, 0]), array([0, 0, 0]), array([0, 0, 0]), array([0, 0, 0]), array([0, 0, 0]), array([0, 0, 0]), array([0, 0, 0]), array([0, 0, 0]), array([0, 0, 0]), array([0, 0, 0]), array([0, 0, 0]), array([0, 0, 0]), array([0, 0, 0]), array([0, 0, 0]), array([0, 0, 0]), array([0, 0, 0]), array([0, 0, 0]), array([0, 0, 0]), array([0, 0, 0]), array([0, 0, 0]), array([0, 0, 0]), array([0, 0, 0]), array([0, 0, 0]), array([0, 0, 0]), array([0, 0, 0]), array([0, 0, 0]), array([0, 0, 0]), array([0, 0, 0]), array([0, 0, 0]), array([0, 0, 0]), array([0, 0, 0]), array([0, 0, 0]), array([0, 0, 0]), array([0, 0, 0]), array([0, 0, 0]), array([0, 0, 0]), array([0, 0, 0]), array([0, 0, 0]), array([0, 0, 0]), array([0, 0, 0]), array([0, 0, 0]), array([0, 0, 0]), array([0, 0, 0]), array([0, 0, 0]), array([0, 0, 0]), array([0, 0, 0]), array([0, 0, 0]), array([0, 0, 0]), array([0, 0, 0]), array([0, 0, 0]), array([0, 0, 0]), array([0, 0, 0]), array([0, 0, 0]), array([0, 0, 0]), array([0, 0, 0]), array([0, 0, 0]), array([0, 0, 0]), array([0, 0, 0]), array([0, 0, 0]), array([0, 0, 0]), array([0, 0, 0]), array([0, 0, 0]), array([0, 0, 0]), array([0, 0, 0]), array([0, 0, 0]), array([0, 0, 0]), array([0, 0, 0]), array([0, 0, 0]), array([0, 0, 0]), array([0, 0, 0]), array([0, 0, 0]), array([0, 0, 0]), array([0, 0, 0]), array([0, 0, 0]), array([0, 0, 0]), array([0, 0, 0]), array([0, 0, 0]), array([0, 0, 0]), array([0, 0, 0]), array([0, 0, 0]), array([0, 0, 0]), array([0, 0, 0]), array([0, 0, 0]), array([0, 0, 0]), array([0, 0, 0]), array([0, 0, 0]), array([0, 0, 0]), array([0, 0, 0]), array([0, 0, 0]), array([0, 0, 0]), array([0, 0, 0]), array([0, 0, 0]), array([0, 0, 0]), array([0, 0, 0]), array([0, 0, 0]), array([0, 0, 0]), array([0, 0, 0]), array([0, 0, 0]), array([0, 0, 0]), array([0, 0, 0]), array([0, 0, 0]), array([0, 0, 0]), array([0, 0, 0]), array([0, 0, 0]), array([0, 0, 0]), array([0, 0, 0]), array([0, 0, 0]), array([0, 0, 0]), array([0, 0, 0]), array([0, 0, 0]), array([0, 0, 0]), array([0, 0, 0]), array([0, 0, 0]), array([0, 0, 0]), array([0, 0, 0]), array([0, 0, 0]), array([0, 0, 0]), array([0, 0, 0]), array([0, 0, 0]), array([0, 0, 0]), array([0, 0, 0]), array([0, 0, 0]), array([0, 0, 0]), array([0, 0, 0]), array([0, 0, 0]), array([0, 0, 0]), array([0, 0, 0]), array([0, 0, 0]), array([0, 0, 0]), array([0, 0, 0]), array([0, 0, 0]), array([0, 0, 0]), array([0, 0, 0]), array([0, 0, 0]), array([0, 0, 0]), array([0, 0, 0]), array([0, 0, 0]), array([0, 0, 0]), array([0, 0, 0]), array([0, 0, 0]), array([0, 0, 0]), array([0, 0, 0]), array([0, 0, 0]), array([0, 0, 0]), array([0, 0, 0]), array([0, 0, 0]), array([0, 0, 0]), array([0, 0, 0]), array([0, 0, 0]), array([0, 0, 0]), array([0, 0, 0]), array([0, 0, 0]), array([0, 0, 0]), array([0, 0, 0]), array([0, 0, 0]), array([0, 0, 0]), array([0, 0, 0]), array([0, 0, 0]), array([0, 0, 0]), array([0, 0, 0]), array([0, 0, 0]), array([0, 0, 0]), array([0, 0, 0]), array([0, 0, 0]), array([0, 0, 0]), array([0, 0, 0]), array([0, 0, 0]), array([0, 0, 0]), array([0, 0, 0]), array([0, 0, 0]), array([0, 0, 0]), array([0, 0, 0]), array([0, 0, 0]), array([0, 0, 0]), array([0, 0, 0]), array([0, 0, 0]), array([0, 0, 0]), array([0, 0, 0]), array([0, 0, 0]), array([0, 0, 0]), array([0, 0, 0]), array([0, 0, 0]), array([0, 0, 0]), array([0, 0, 0]), array([0, 0, 0]), array([0, 0, 0]), array([0, 0, 0]), array([0, 0, 0]), array([0, 0, 0]), array([0, 0, 0]), array([0, 0, 0]), array([0, 0, 0]), array([0, 0, 0]), array([0, 0, 0]), array([0, 0, 0]), array([0, 0, 0]), array([0, 0, 0]), array([0, 0, 0]), array([0, 0, 0])]\n",
            "All codewords are valid\n"
          ],
          "name": "stdout"
        }
      ]
    },
    {
      "cell_type": "markdown",
      "metadata": {
        "id": "qbn_TGE8rBj1"
      },
      "source": [
        "Property 3: The minimum Hamming distance between two codewords of a linear block code is equal to the minimum Hammingweight of any non-zero codeword, i.e., d* = w*."
      ]
    },
    {
      "cell_type": "code",
      "metadata": {
        "id": "fbis6BLwb66P",
        "outputId": "2338c5e3-873e-4640-92c5-4e56c25355cb",
        "colab": {
          "base_uri": "https://localhost:8080/",
          "height": 35
        }
      },
      "source": [
        "code_xor = []\n",
        "for i in range(msg_len+1):\n",
        "  for j in range(msg_len+1):\n",
        "    if i == j:\n",
        "      continue\n",
        "    code_xor.append(np.count_nonzero(code[i,:]^code[j,:]))\n",
        "min_dist = np.min(code_xor) #Minimum hamming distance\n",
        "weights = []\n",
        "for i in range(1, msg_len+1):\n",
        "  weights.append(np.count_nonzero(code[i,:]^code[0,:])) #Excluded all zeros as weight will be zero\n",
        "min_weight = np.min(weights)\n",
        "\n",
        "min_weight == min_dist"
      ],
      "execution_count": 18,
      "outputs": [
        {
          "output_type": "execute_result",
          "data": {
            "text/plain": [
              "True"
            ]
          },
          "metadata": {
            "tags": []
          },
          "execution_count": 18
        }
      ]
    }
  ]
}