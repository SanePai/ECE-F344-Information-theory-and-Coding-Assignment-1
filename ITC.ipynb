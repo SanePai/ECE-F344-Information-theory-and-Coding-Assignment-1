{
  "nbformat": 4,
  "nbformat_minor": 0,
  "metadata": {
    "colab": {
      "name": "ITC.ipynb",
      "provenance": [],
      "collapsed_sections": [],
      "include_colab_link": true
    },
    "kernelspec": {
      "name": "python3",
      "display_name": "Python 3"
    }
  },
  "cells": [
    {
      "cell_type": "markdown",
      "metadata": {
        "id": "view-in-github",
        "colab_type": "text"
      },
      "source": [
        "<a href=\"https://colab.research.google.com/github/SanePai/ECE-F344-Information-theory-and-Coding-Assignment-1/blob/main/ITC.ipynb\" target=\"_parent\"><img src=\"https://colab.research.google.com/assets/colab-badge.svg\" alt=\"Open In Colab\"/></a>"
      ]
    },
    {
      "cell_type": "code",
      "metadata": {
        "id": "95hqkOOj2xbQ",
        "outputId": "0dff6582-150a-4d23-ff39-ad094110ebb6",
        "colab": {
          "base_uri": "https://localhost:8080/",
          "height": 175
        }
      },
      "source": [
        "pip install scikit-dsp-comm"
      ],
      "execution_count": 1,
      "outputs": [
        {
          "output_type": "stream",
          "text": [
            "Requirement already satisfied: scikit-dsp-comm in /usr/local/lib/python3.6/dist-packages (1.2.0)\n",
            "Requirement already satisfied: numpy in /usr/local/lib/python3.6/dist-packages (from scikit-dsp-comm) (1.18.5)\n",
            "Requirement already satisfied: matplotlib in /usr/local/lib/python3.6/dist-packages (from scikit-dsp-comm) (3.2.2)\n",
            "Requirement already satisfied: scipy in /usr/local/lib/python3.6/dist-packages (from scikit-dsp-comm) (1.4.1)\n",
            "Requirement already satisfied: pyparsing!=2.0.4,!=2.1.2,!=2.1.6,>=2.0.1 in /usr/local/lib/python3.6/dist-packages (from matplotlib->scikit-dsp-comm) (2.4.7)\n",
            "Requirement already satisfied: python-dateutil>=2.1 in /usr/local/lib/python3.6/dist-packages (from matplotlib->scikit-dsp-comm) (2.8.1)\n",
            "Requirement already satisfied: cycler>=0.10 in /usr/local/lib/python3.6/dist-packages (from matplotlib->scikit-dsp-comm) (0.10.0)\n",
            "Requirement already satisfied: kiwisolver>=1.0.1 in /usr/local/lib/python3.6/dist-packages (from matplotlib->scikit-dsp-comm) (1.2.0)\n",
            "Requirement already satisfied: six>=1.5 in /usr/local/lib/python3.6/dist-packages (from python-dateutil>=2.1->matplotlib->scikit-dsp-comm) (1.15.0)\n"
          ],
          "name": "stdout"
        }
      ]
    },
    {
      "cell_type": "code",
      "metadata": {
        "id": "S6oDKZS-17KK"
      },
      "source": [
        "import sk_dsp_comm.fec_block as block\n",
        "import numpy as np"
      ],
      "execution_count": 2,
      "outputs": []
    },
    {
      "cell_type": "code",
      "metadata": {
        "id": "BIODPh4ONXXs",
        "outputId": "ebbc1b4c-ec08-4202-9458-fa50b69f3cfd",
        "colab": {
          "base_uri": "https://localhost:8080/",
          "height": 52
        }
      },
      "source": [
        "n = int(input(\"Enter n: \\t\")) #Input the n,k values for a hamming code\n",
        "k = int(input(\"Enter k: \\t\"))\n",
        "parity = n-k"
      ],
      "execution_count": 3,
      "outputs": [
        {
          "output_type": "stream",
          "text": [
            "Enter n: \t7\n",
            "Enter k: \t4\n"
          ],
          "name": "stdout"
        }
      ]
    },
    {
      "cell_type": "code",
      "metadata": {
        "id": "JXXxElOE2qoS"
      },
      "source": [
        "hh1 = block.fec_hamming(parity) #Instantiating a fec_hamming class instance(hh1)"
      ],
      "execution_count": 4,
      "outputs": []
    },
    {
      "cell_type": "code",
      "metadata": {
        "id": "3BjF3oyr28_7",
        "outputId": "c4d94ee6-4f99-445e-f3ad-8795d49aeaca",
        "colab": {
          "base_uri": "https://localhost:8080/",
          "height": 140
        }
      },
      "source": [
        "print(f\"n: {hh1.n} \\nk: {hh1.k}\\nGenerator Matrix:\\n{hh1.G}\") #n,k and generator matrix of the hamming code"
      ],
      "execution_count": 5,
      "outputs": [
        {
          "output_type": "stream",
          "text": [
            "n: 7 \n",
            "k: 4\n",
            "Generator Matrix:\n",
            "[[1 0 0 0 1 1 1]\n",
            " [0 1 0 0 1 1 0]\n",
            " [0 0 1 0 0 1 1]\n",
            " [0 0 0 1 1 0 1]]\n"
          ],
          "name": "stdout"
        }
      ]
    },
    {
      "cell_type": "code",
      "metadata": {
        "id": "9xGSMXBo4bqU"
      },
      "source": [
        "msg_len = (2**hh1.k) - 1"
      ],
      "execution_count": 6,
      "outputs": []
    },
    {
      "cell_type": "code",
      "metadata": {
        "id": "JAZv8CEg31OE",
        "outputId": "b531d3f4-8dde-4089-f92a-ca0d7ece0920",
        "colab": {
          "base_uri": "https://localhost:8080/",
          "height": 34
        }
      },
      "source": [
        "msg_array = [x for x in range(msg_len+1)]\n",
        "print(f\"Message array(Decimal Form): {msg_array}\") #Creating a decimal message array"
      ],
      "execution_count": 7,
      "outputs": [
        {
          "output_type": "stream",
          "text": [
            "Message array(Decimal Form): [0, 1, 2, 3, 4, 5, 6, 7, 8, 9, 10, 11, 12, 13, 14, 15]\n"
          ],
          "name": "stdout"
        }
      ]
    },
    {
      "cell_type": "code",
      "metadata": {
        "id": "-Byc247T4zXy"
      },
      "source": [
        "def dToBi(n):\n",
        "  '''Returns a fixed length binary bit array for a given message'''  \n",
        "  return bin(n).replace(\"0b\",\"\").zfill(hh1.k) \n",
        "def tostring(aray):\n",
        "  '''Converts a bit array to a string'''\n",
        "  string = ''\n",
        "  aray = aray.tolist()\n",
        "  for i in range(len(aray)):\n",
        "    string = string + str(aray[i])\n",
        "  return string"
      ],
      "execution_count": 8,
      "outputs": []
    },
    {
      "cell_type": "code",
      "metadata": {
        "id": "-k6qK20V3Rdl"
      },
      "source": [
        "def ham(msg):\n",
        "  '''Returns a hamming encoded message for a given input message'''\n",
        "  x = np.array([int(a) for a in dToBi(msg)])\n",
        "  y = hh1.hamm_encoder(x)\n",
        "  y = np.array([int(a) for a in y])\n",
        "  return y"
      ],
      "execution_count": 9,
      "outputs": []
    },
    {
      "cell_type": "code",
      "metadata": {
        "id": "WzaEsY2S9qBe"
      },
      "source": [
        "code = [] #Empty list to hold codewords \n",
        "for i in msg_array:\n",
        "  code.append(ham(i))\n",
        "code = np.array(np.concatenate(code, axis=0)) #Concatenate the codeword(list to string)\n",
        "code.resize((2**hh1.k,hh1.n)) #Resize the codeword list\n",
        "# print(code)\n",
        "msg_len = (2**hh1.k)-1\n",
        "Table = [] #Table of added codewords\n",
        "for i in range(msg_len+1):\n",
        "  for j in range(msg_len+1):\n",
        "    Table.append(tostring(code[i,:]^code[j,:]))\n",
        "# Table\n"
      ],
      "execution_count": 10,
      "outputs": []
    },
    {
      "cell_type": "code",
      "metadata": {
        "id": "pd2vKuT3JxJs",
        "outputId": "96369c7c-12bc-41be-d40a-a246efe1fe20",
        "colab": {
          "base_uri": "https://localhost:8080/",
          "height": 52
        }
      },
      "source": [
        "code1 = [] #container to hold he original codewords in a string form\n",
        "m,n = np.shape(code)\n",
        "for i in range(m):\n",
        "  code1.append(tostring(code[i,:]))\n",
        "print(f\"Codewords:\\n{code1}\")"
      ],
      "execution_count": 11,
      "outputs": [
        {
          "output_type": "stream",
          "text": [
            "Codewords:\n",
            "['0000000', '0001101', '0010011', '0011110', '0100110', '0101011', '0110101', '0111000', '1000111', '1001010', '1010100', '1011001', '1100001', '1101100', '1110010', '1111111']\n"
          ],
          "name": "stdout"
        }
      ]
    },
    {
      "cell_type": "code",
      "metadata": {
        "id": "27uxL617C2gh"
      },
      "source": [
        "Table_grid = np.array(Table) #Array to print a table\n",
        "Table_grid.resize((2**hh1.k,2**hh1.k)) # Resize the table to (2^k + 1)x(2^k + 1)"
      ],
      "execution_count": 12,
      "outputs": []
    },
    {
      "cell_type": "code",
      "metadata": {
        "id": "X6hURoihEMrR",
        "outputId": "6f5561fd-b936-4148-f53d-72a8d9be08d4",
        "colab": {
          "base_uri": "https://localhost:8080/",
          "height": 34
        }
      },
      "source": [
        "np.shape(Table_grid)"
      ],
      "execution_count": 13,
      "outputs": [
        {
          "output_type": "execute_result",
          "data": {
            "text/plain": [
              "(16, 16)"
            ]
          },
          "metadata": {
            "tags": []
          },
          "execution_count": 13
        }
      ]
    },
    {
      "cell_type": "code",
      "metadata": {
        "id": "eaHwyiMUForg"
      },
      "source": [
        "def gridprint(aray):\n",
        "  '''Custom function to print the table with clear grid lines'''\n",
        "  m,n = np.shape(aray)\n",
        "  for i in range(0,m):\n",
        "    for j in range(0,n):\n",
        "      print(aray[i][j] + '  |  ', end= '')\n",
        "    print('\\n------------------------------------------------------------------------------------------------------------------------------------------------------------------------------------------------') "
      ],
      "execution_count": 14,
      "outputs": []
    },
    {
      "cell_type": "code",
      "metadata": {
        "id": "JpVs_2WOGZa_",
        "outputId": "b9f046d5-f7d0-4dd9-c23e-47b3d94f54fc",
        "colab": {
          "base_uri": "https://localhost:8080/",
          "height": 635
        }
      },
      "source": [
        "print(\"Table:\\n\")\n",
        "gridprint(Table_grid) #Print the table"
      ],
      "execution_count": 15,
      "outputs": [
        {
          "output_type": "stream",
          "text": [
            "Table:\n",
            "\n",
            "0000000  |  0001101  |  0010011  |  0011110  |  0100110  |  0101011  |  0110101  |  0111000  |  1000111  |  1001010  |  1010100  |  1011001  |  1100001  |  1101100  |  1110010  |  1111111  |  \n",
            "------------------------------------------------------------------------------------------------------------------------------------------------------------------------------------------------\n",
            "0001101  |  0000000  |  0011110  |  0010011  |  0101011  |  0100110  |  0111000  |  0110101  |  1001010  |  1000111  |  1011001  |  1010100  |  1101100  |  1100001  |  1111111  |  1110010  |  \n",
            "------------------------------------------------------------------------------------------------------------------------------------------------------------------------------------------------\n",
            "0010011  |  0011110  |  0000000  |  0001101  |  0110101  |  0111000  |  0100110  |  0101011  |  1010100  |  1011001  |  1000111  |  1001010  |  1110010  |  1111111  |  1100001  |  1101100  |  \n",
            "------------------------------------------------------------------------------------------------------------------------------------------------------------------------------------------------\n",
            "0011110  |  0010011  |  0001101  |  0000000  |  0111000  |  0110101  |  0101011  |  0100110  |  1011001  |  1010100  |  1001010  |  1000111  |  1111111  |  1110010  |  1101100  |  1100001  |  \n",
            "------------------------------------------------------------------------------------------------------------------------------------------------------------------------------------------------\n",
            "0100110  |  0101011  |  0110101  |  0111000  |  0000000  |  0001101  |  0010011  |  0011110  |  1100001  |  1101100  |  1110010  |  1111111  |  1000111  |  1001010  |  1010100  |  1011001  |  \n",
            "------------------------------------------------------------------------------------------------------------------------------------------------------------------------------------------------\n",
            "0101011  |  0100110  |  0111000  |  0110101  |  0001101  |  0000000  |  0011110  |  0010011  |  1101100  |  1100001  |  1111111  |  1110010  |  1001010  |  1000111  |  1011001  |  1010100  |  \n",
            "------------------------------------------------------------------------------------------------------------------------------------------------------------------------------------------------\n",
            "0110101  |  0111000  |  0100110  |  0101011  |  0010011  |  0011110  |  0000000  |  0001101  |  1110010  |  1111111  |  1100001  |  1101100  |  1010100  |  1011001  |  1000111  |  1001010  |  \n",
            "------------------------------------------------------------------------------------------------------------------------------------------------------------------------------------------------\n",
            "0111000  |  0110101  |  0101011  |  0100110  |  0011110  |  0010011  |  0001101  |  0000000  |  1111111  |  1110010  |  1101100  |  1100001  |  1011001  |  1010100  |  1001010  |  1000111  |  \n",
            "------------------------------------------------------------------------------------------------------------------------------------------------------------------------------------------------\n",
            "1000111  |  1001010  |  1010100  |  1011001  |  1100001  |  1101100  |  1110010  |  1111111  |  0000000  |  0001101  |  0010011  |  0011110  |  0100110  |  0101011  |  0110101  |  0111000  |  \n",
            "------------------------------------------------------------------------------------------------------------------------------------------------------------------------------------------------\n",
            "1001010  |  1000111  |  1011001  |  1010100  |  1101100  |  1100001  |  1111111  |  1110010  |  0001101  |  0000000  |  0011110  |  0010011  |  0101011  |  0100110  |  0111000  |  0110101  |  \n",
            "------------------------------------------------------------------------------------------------------------------------------------------------------------------------------------------------\n",
            "1010100  |  1011001  |  1000111  |  1001010  |  1110010  |  1111111  |  1100001  |  1101100  |  0010011  |  0011110  |  0000000  |  0001101  |  0110101  |  0111000  |  0100110  |  0101011  |  \n",
            "------------------------------------------------------------------------------------------------------------------------------------------------------------------------------------------------\n",
            "1011001  |  1010100  |  1001010  |  1000111  |  1111111  |  1110010  |  1101100  |  1100001  |  0011110  |  0010011  |  0001101  |  0000000  |  0111000  |  0110101  |  0101011  |  0100110  |  \n",
            "------------------------------------------------------------------------------------------------------------------------------------------------------------------------------------------------\n",
            "1100001  |  1101100  |  1110010  |  1111111  |  1000111  |  1001010  |  1010100  |  1011001  |  0100110  |  0101011  |  0110101  |  0111000  |  0000000  |  0001101  |  0010011  |  0011110  |  \n",
            "------------------------------------------------------------------------------------------------------------------------------------------------------------------------------------------------\n",
            "1101100  |  1100001  |  1111111  |  1110010  |  1001010  |  1000111  |  1011001  |  1010100  |  0101011  |  0100110  |  0111000  |  0110101  |  0001101  |  0000000  |  0011110  |  0010011  |  \n",
            "------------------------------------------------------------------------------------------------------------------------------------------------------------------------------------------------\n",
            "1110010  |  1111111  |  1100001  |  1101100  |  1010100  |  1011001  |  1000111  |  1001010  |  0110101  |  0111000  |  0100110  |  0101011  |  0010011  |  0011110  |  0000000  |  0001101  |  \n",
            "------------------------------------------------------------------------------------------------------------------------------------------------------------------------------------------------\n",
            "1111111  |  1110010  |  1101100  |  1100001  |  1011001  |  1010100  |  1001010  |  1000111  |  0111000  |  0110101  |  0101011  |  0100110  |  0011110  |  0010011  |  0001101  |  0000000  |  \n",
            "------------------------------------------------------------------------------------------------------------------------------------------------------------------------------------------------\n"
          ],
          "name": "stdout"
        }
      ]
    },
    {
      "cell_type": "code",
      "metadata": {
        "id": "OPxugBBxHkm9",
        "outputId": "77f3414a-8945-4185-cee5-9d4fbc6fc3d4",
        "colab": {
          "base_uri": "https://localhost:8080/",
          "height": 1000
        }
      },
      "source": [
        "#Check if all elements in 'Table' are valid codewords(elements in 'code')\n",
        "count = 0\n",
        "bol = True\n",
        "for i in range(len(Table)):\n",
        "  if Table[i] in code1:\n",
        "    print(\"Resultant codeword is valid\")\n",
        "  else:\n",
        "    print(\"Not Valid\")\n",
        "    bol = False\n",
        "if bol == True:\n",
        "  print(\"\\nAll codewords are valid.Hence proved.\")"
      ],
      "execution_count": 16,
      "outputs": [
        {
          "output_type": "stream",
          "text": [
            "Resultant codeword is valid\n",
            "Resultant codeword is valid\n",
            "Resultant codeword is valid\n",
            "Resultant codeword is valid\n",
            "Resultant codeword is valid\n",
            "Resultant codeword is valid\n",
            "Resultant codeword is valid\n",
            "Resultant codeword is valid\n",
            "Resultant codeword is valid\n",
            "Resultant codeword is valid\n",
            "Resultant codeword is valid\n",
            "Resultant codeword is valid\n",
            "Resultant codeword is valid\n",
            "Resultant codeword is valid\n",
            "Resultant codeword is valid\n",
            "Resultant codeword is valid\n",
            "Resultant codeword is valid\n",
            "Resultant codeword is valid\n",
            "Resultant codeword is valid\n",
            "Resultant codeword is valid\n",
            "Resultant codeword is valid\n",
            "Resultant codeword is valid\n",
            "Resultant codeword is valid\n",
            "Resultant codeword is valid\n",
            "Resultant codeword is valid\n",
            "Resultant codeword is valid\n",
            "Resultant codeword is valid\n",
            "Resultant codeword is valid\n",
            "Resultant codeword is valid\n",
            "Resultant codeword is valid\n",
            "Resultant codeword is valid\n",
            "Resultant codeword is valid\n",
            "Resultant codeword is valid\n",
            "Resultant codeword is valid\n",
            "Resultant codeword is valid\n",
            "Resultant codeword is valid\n",
            "Resultant codeword is valid\n",
            "Resultant codeword is valid\n",
            "Resultant codeword is valid\n",
            "Resultant codeword is valid\n",
            "Resultant codeword is valid\n",
            "Resultant codeword is valid\n",
            "Resultant codeword is valid\n",
            "Resultant codeword is valid\n",
            "Resultant codeword is valid\n",
            "Resultant codeword is valid\n",
            "Resultant codeword is valid\n",
            "Resultant codeword is valid\n",
            "Resultant codeword is valid\n",
            "Resultant codeword is valid\n",
            "Resultant codeword is valid\n",
            "Resultant codeword is valid\n",
            "Resultant codeword is valid\n",
            "Resultant codeword is valid\n",
            "Resultant codeword is valid\n",
            "Resultant codeword is valid\n",
            "Resultant codeword is valid\n",
            "Resultant codeword is valid\n",
            "Resultant codeword is valid\n",
            "Resultant codeword is valid\n",
            "Resultant codeword is valid\n",
            "Resultant codeword is valid\n",
            "Resultant codeword is valid\n",
            "Resultant codeword is valid\n",
            "Resultant codeword is valid\n",
            "Resultant codeword is valid\n",
            "Resultant codeword is valid\n",
            "Resultant codeword is valid\n",
            "Resultant codeword is valid\n",
            "Resultant codeword is valid\n",
            "Resultant codeword is valid\n",
            "Resultant codeword is valid\n",
            "Resultant codeword is valid\n",
            "Resultant codeword is valid\n",
            "Resultant codeword is valid\n",
            "Resultant codeword is valid\n",
            "Resultant codeword is valid\n",
            "Resultant codeword is valid\n",
            "Resultant codeword is valid\n",
            "Resultant codeword is valid\n",
            "Resultant codeword is valid\n",
            "Resultant codeword is valid\n",
            "Resultant codeword is valid\n",
            "Resultant codeword is valid\n",
            "Resultant codeword is valid\n",
            "Resultant codeword is valid\n",
            "Resultant codeword is valid\n",
            "Resultant codeword is valid\n",
            "Resultant codeword is valid\n",
            "Resultant codeword is valid\n",
            "Resultant codeword is valid\n",
            "Resultant codeword is valid\n",
            "Resultant codeword is valid\n",
            "Resultant codeword is valid\n",
            "Resultant codeword is valid\n",
            "Resultant codeword is valid\n",
            "Resultant codeword is valid\n",
            "Resultant codeword is valid\n",
            "Resultant codeword is valid\n",
            "Resultant codeword is valid\n",
            "Resultant codeword is valid\n",
            "Resultant codeword is valid\n",
            "Resultant codeword is valid\n",
            "Resultant codeword is valid\n",
            "Resultant codeword is valid\n",
            "Resultant codeword is valid\n",
            "Resultant codeword is valid\n",
            "Resultant codeword is valid\n",
            "Resultant codeword is valid\n",
            "Resultant codeword is valid\n",
            "Resultant codeword is valid\n",
            "Resultant codeword is valid\n",
            "Resultant codeword is valid\n",
            "Resultant codeword is valid\n",
            "Resultant codeword is valid\n",
            "Resultant codeword is valid\n",
            "Resultant codeword is valid\n",
            "Resultant codeword is valid\n",
            "Resultant codeword is valid\n",
            "Resultant codeword is valid\n",
            "Resultant codeword is valid\n",
            "Resultant codeword is valid\n",
            "Resultant codeword is valid\n",
            "Resultant codeword is valid\n",
            "Resultant codeword is valid\n",
            "Resultant codeword is valid\n",
            "Resultant codeword is valid\n",
            "Resultant codeword is valid\n",
            "Resultant codeword is valid\n",
            "Resultant codeword is valid\n",
            "Resultant codeword is valid\n",
            "Resultant codeword is valid\n",
            "Resultant codeword is valid\n",
            "Resultant codeword is valid\n",
            "Resultant codeword is valid\n",
            "Resultant codeword is valid\n",
            "Resultant codeword is valid\n",
            "Resultant codeword is valid\n",
            "Resultant codeword is valid\n",
            "Resultant codeword is valid\n",
            "Resultant codeword is valid\n",
            "Resultant codeword is valid\n",
            "Resultant codeword is valid\n",
            "Resultant codeword is valid\n",
            "Resultant codeword is valid\n",
            "Resultant codeword is valid\n",
            "Resultant codeword is valid\n",
            "Resultant codeword is valid\n",
            "Resultant codeword is valid\n",
            "Resultant codeword is valid\n",
            "Resultant codeword is valid\n",
            "Resultant codeword is valid\n",
            "Resultant codeword is valid\n",
            "Resultant codeword is valid\n",
            "Resultant codeword is valid\n",
            "Resultant codeword is valid\n",
            "Resultant codeword is valid\n",
            "Resultant codeword is valid\n",
            "Resultant codeword is valid\n",
            "Resultant codeword is valid\n",
            "Resultant codeword is valid\n",
            "Resultant codeword is valid\n",
            "Resultant codeword is valid\n",
            "Resultant codeword is valid\n",
            "Resultant codeword is valid\n",
            "Resultant codeword is valid\n",
            "Resultant codeword is valid\n",
            "Resultant codeword is valid\n",
            "Resultant codeword is valid\n",
            "Resultant codeword is valid\n",
            "Resultant codeword is valid\n",
            "Resultant codeword is valid\n",
            "Resultant codeword is valid\n",
            "Resultant codeword is valid\n",
            "Resultant codeword is valid\n",
            "Resultant codeword is valid\n",
            "Resultant codeword is valid\n",
            "Resultant codeword is valid\n",
            "Resultant codeword is valid\n",
            "Resultant codeword is valid\n",
            "Resultant codeword is valid\n",
            "Resultant codeword is valid\n",
            "Resultant codeword is valid\n",
            "Resultant codeword is valid\n",
            "Resultant codeword is valid\n",
            "Resultant codeword is valid\n",
            "Resultant codeword is valid\n",
            "Resultant codeword is valid\n",
            "Resultant codeword is valid\n",
            "Resultant codeword is valid\n",
            "Resultant codeword is valid\n",
            "Resultant codeword is valid\n",
            "Resultant codeword is valid\n",
            "Resultant codeword is valid\n",
            "Resultant codeword is valid\n",
            "Resultant codeword is valid\n",
            "Resultant codeword is valid\n",
            "Resultant codeword is valid\n",
            "Resultant codeword is valid\n",
            "Resultant codeword is valid\n",
            "Resultant codeword is valid\n",
            "Resultant codeword is valid\n",
            "Resultant codeword is valid\n",
            "Resultant codeword is valid\n",
            "Resultant codeword is valid\n",
            "Resultant codeword is valid\n",
            "Resultant codeword is valid\n",
            "Resultant codeword is valid\n",
            "Resultant codeword is valid\n",
            "Resultant codeword is valid\n",
            "Resultant codeword is valid\n",
            "Resultant codeword is valid\n",
            "Resultant codeword is valid\n",
            "Resultant codeword is valid\n",
            "Resultant codeword is valid\n",
            "Resultant codeword is valid\n",
            "Resultant codeword is valid\n",
            "Resultant codeword is valid\n",
            "Resultant codeword is valid\n",
            "Resultant codeword is valid\n",
            "Resultant codeword is valid\n",
            "Resultant codeword is valid\n",
            "Resultant codeword is valid\n",
            "Resultant codeword is valid\n",
            "Resultant codeword is valid\n",
            "Resultant codeword is valid\n",
            "Resultant codeword is valid\n",
            "Resultant codeword is valid\n",
            "Resultant codeword is valid\n",
            "Resultant codeword is valid\n",
            "Resultant codeword is valid\n",
            "Resultant codeword is valid\n",
            "Resultant codeword is valid\n",
            "Resultant codeword is valid\n",
            "Resultant codeword is valid\n",
            "Resultant codeword is valid\n",
            "Resultant codeword is valid\n",
            "Resultant codeword is valid\n",
            "Resultant codeword is valid\n",
            "Resultant codeword is valid\n",
            "Resultant codeword is valid\n",
            "Resultant codeword is valid\n",
            "Resultant codeword is valid\n",
            "Resultant codeword is valid\n",
            "Resultant codeword is valid\n",
            "Resultant codeword is valid\n",
            "Resultant codeword is valid\n",
            "Resultant codeword is valid\n",
            "Resultant codeword is valid\n",
            "Resultant codeword is valid\n",
            "Resultant codeword is valid\n",
            "Resultant codeword is valid\n",
            "Resultant codeword is valid\n",
            "Resultant codeword is valid\n",
            "Resultant codeword is valid\n",
            "Resultant codeword is valid\n",
            "\n",
            "All codewords are valid.Hence proved.\n"
          ],
          "name": "stdout"
        }
      ]
    }
  ]
}