{
  "nbformat": 4,
  "nbformat_minor": 0,
  "metadata": {
    "colab": {
      "name": "ITC.ipynb",
      "provenance": [],
      "collapsed_sections": [],
      "include_colab_link": true
    },
    "kernelspec": {
      "name": "python3",
      "display_name": "Python 3"
    }
  },
  "cells": [
    {
      "cell_type": "markdown",
      "metadata": {
        "id": "view-in-github",
        "colab_type": "text"
      },
      "source": [
        "<a href=\"https://colab.research.google.com/github/SanePai/ECE-F344-Information-theory-and-Coding-Assignment-1/blob/main/ITC.ipynb\" target=\"_parent\"><img src=\"https://colab.research.google.com/assets/colab-badge.svg\" alt=\"Open In Colab\"/></a>"
      ]
    },
    {
      "cell_type": "code",
      "metadata": {
        "id": "95hqkOOj2xbQ",
        "outputId": "2edfc252-f445-49b6-84e7-63dc667c1b0b",
        "colab": {
          "base_uri": "https://localhost:8080/",
          "height": 238
        }
      },
      "source": [
        "#pip install scikit-dsp-comm"
      ],
      "execution_count": null,
      "outputs": [
        {
          "output_type": "stream",
          "text": [
            "Collecting scikit-dsp-comm\n",
            "\u001b[?25l  Downloading https://files.pythonhosted.org/packages/8b/6d/72a4d6fed1537fc5dbd547e31a40e96b3a93d07e8ec844f0aa866e3758b6/scikit_dsp_comm-1.2.0-py3-none-any.whl (116kB)\n",
            "\r\u001b[K     |██▉                             | 10kB 11.7MB/s eta 0:00:01\r\u001b[K     |█████▋                          | 20kB 3.0MB/s eta 0:00:01\r\u001b[K     |████████▍                       | 30kB 3.5MB/s eta 0:00:01\r\u001b[K     |███████████▎                    | 40kB 3.9MB/s eta 0:00:01\r\u001b[K     |██████████████                  | 51kB 3.5MB/s eta 0:00:01\r\u001b[K     |████████████████▉               | 61kB 3.7MB/s eta 0:00:01\r\u001b[K     |███████████████████▋            | 71kB 4.0MB/s eta 0:00:01\r\u001b[K     |██████████████████████▌         | 81kB 4.2MB/s eta 0:00:01\r\u001b[K     |█████████████████████████▎      | 92kB 4.2MB/s eta 0:00:01\r\u001b[K     |████████████████████████████    | 102kB 4.4MB/s eta 0:00:01\r\u001b[K     |███████████████████████████████ | 112kB 4.4MB/s eta 0:00:01\r\u001b[K     |████████████████████████████████| 122kB 4.4MB/s \n",
            "\u001b[?25hRequirement already satisfied: matplotlib in /usr/local/lib/python3.6/dist-packages (from scikit-dsp-comm) (3.2.2)\n",
            "Requirement already satisfied: numpy in /usr/local/lib/python3.6/dist-packages (from scikit-dsp-comm) (1.18.5)\n",
            "Requirement already satisfied: scipy in /usr/local/lib/python3.6/dist-packages (from scikit-dsp-comm) (1.4.1)\n",
            "Requirement already satisfied: python-dateutil>=2.1 in /usr/local/lib/python3.6/dist-packages (from matplotlib->scikit-dsp-comm) (2.8.1)\n",
            "Requirement already satisfied: pyparsing!=2.0.4,!=2.1.2,!=2.1.6,>=2.0.1 in /usr/local/lib/python3.6/dist-packages (from matplotlib->scikit-dsp-comm) (2.4.7)\n",
            "Requirement already satisfied: cycler>=0.10 in /usr/local/lib/python3.6/dist-packages (from matplotlib->scikit-dsp-comm) (0.10.0)\n",
            "Requirement already satisfied: kiwisolver>=1.0.1 in /usr/local/lib/python3.6/dist-packages (from matplotlib->scikit-dsp-comm) (1.2.0)\n",
            "Requirement already satisfied: six>=1.5 in /usr/local/lib/python3.6/dist-packages (from python-dateutil>=2.1->matplotlib->scikit-dsp-comm) (1.15.0)\n",
            "Installing collected packages: scikit-dsp-comm\n",
            "Successfully installed scikit-dsp-comm-1.2.0\n"
          ],
          "name": "stdout"
        }
      ]
    },
    {
      "cell_type": "code",
      "metadata": {
        "id": "S6oDKZS-17KK"
      },
      "source": [
        "import sk_dsp_comm.fec_block as block\n",
        "import numpy as np"
      ],
      "execution_count": null,
      "outputs": []
    },
    {
      "cell_type": "code",
      "metadata": {
        "id": "BIODPh4ONXXs",
        "outputId": "da4ebb01-9f90-43f2-88b2-65656d8e22d5",
        "colab": {
          "base_uri": "https://localhost:8080/",
          "height": 51
        }
      },
      "source": [
        "n = int(input(\"Enter n\")) #Input the n,k values for a hamming code\n",
        "k = int(input(\"Enter k\"))\n",
        "parity = n-k"
      ],
      "execution_count": null,
      "outputs": [
        {
          "output_type": "stream",
          "text": [
            "Enter n7\n",
            "Enter k4\n"
          ],
          "name": "stdout"
        }
      ]
    },
    {
      "cell_type": "code",
      "metadata": {
        "id": "JXXxElOE2qoS"
      },
      "source": [
        "hh1 = block.fec_hamming(parity) #Instantiating a fec_hamming class instance(hh1)"
      ],
      "execution_count": null,
      "outputs": []
    },
    {
      "cell_type": "code",
      "metadata": {
        "id": "3BjF3oyr28_7",
        "outputId": "37b4fbc0-8f97-472b-ffad-d5707239de67",
        "colab": {
          "base_uri": "https://localhost:8080/",
          "height": 85
        }
      },
      "source": [
        "hh1.n, hh1.k, hh1.G #n,k and generator matrix of the hamming code"
      ],
      "execution_count": null,
      "outputs": [
        {
          "output_type": "execute_result",
          "data": {
            "text/plain": [
              "(7, 4, array([[1, 0, 0, 0, 1, 1, 1],\n",
              "        [0, 1, 0, 0, 1, 1, 0],\n",
              "        [0, 0, 1, 0, 0, 1, 1],\n",
              "        [0, 0, 0, 1, 1, 0, 1]]))"
            ]
          },
          "metadata": {
            "tags": []
          },
          "execution_count": 5
        }
      ]
    },
    {
      "cell_type": "code",
      "metadata": {
        "id": "9xGSMXBo4bqU"
      },
      "source": [
        "msg_len = (2**hh1.k) - 1"
      ],
      "execution_count": null,
      "outputs": []
    },
    {
      "cell_type": "code",
      "metadata": {
        "id": "JAZv8CEg31OE",
        "outputId": "3c180106-f361-471d-c0da-324b2a8d4303",
        "colab": {
          "base_uri": "https://localhost:8080/",
          "height": 34
        }
      },
      "source": [
        "msg_array = [x for x in range(msg_len+1)]\n",
        "msg_array #Creating a decimal message array"
      ],
      "execution_count": null,
      "outputs": [
        {
          "output_type": "execute_result",
          "data": {
            "text/plain": [
              "[0, 1, 2, 3, 4, 5, 6, 7, 8, 9, 10, 11, 12, 13, 14, 15]"
            ]
          },
          "metadata": {
            "tags": []
          },
          "execution_count": 7
        }
      ]
    },
    {
      "cell_type": "code",
      "metadata": {
        "id": "-Byc247T4zXy"
      },
      "source": [
        "def dToBi(n):\n",
        "  '''Returns a fixed length binary bit array for a given message'''  \n",
        "  return bin(n).replace(\"0b\",\"\").zfill(hh1.k) \n",
        "def tostring(aray):\n",
        "  '''Converts a bit array to a string'''\n",
        "  string = ''\n",
        "  aray = aray.tolist()\n",
        "  for i in range(len(aray)):\n",
        "    string = string + str(aray[i])\n",
        "  return string"
      ],
      "execution_count": null,
      "outputs": []
    },
    {
      "cell_type": "code",
      "metadata": {
        "id": "-k6qK20V3Rdl"
      },
      "source": [
        "def ham(msg):\n",
        "  '''Returns a hamming encoded message for a given input message'''\n",
        "  x = np.array([int(a) for a in dToBi(msg)])\n",
        "  y = hh1.hamm_encoder(x)\n",
        "  y = np.array([int(a) for a in y])\n",
        "  return y"
      ],
      "execution_count": null,
      "outputs": []
    },
    {
      "cell_type": "code",
      "metadata": {
        "id": "WzaEsY2S9qBe"
      },
      "source": [
        "code = [] #Empty list to hold codewords \n",
        "for i in msg_array:\n",
        "  code.append(ham(i))\n",
        "code = np.array(np.concatenate(code, axis=0)) #Concatenate the codeword(list to string)\n",
        "code.resize((2**hh1.k,hh1.n)) #Resize the codeword list\n",
        "# print(code)\n",
        "msg_len = (2**hh1.k)-1\n",
        "Table = [] #Table of added codewords\n",
        "for i in range(msg_len+1):\n",
        "  for j in range(msg_len+1):\n",
        "    Table.append(tostring(code[i,:]^code[j,:]))\n",
        "# Table\n"
      ],
      "execution_count": null,
      "outputs": []
    },
    {
      "cell_type": "code",
      "metadata": {
        "id": "pd2vKuT3JxJs",
        "outputId": "3e87cb3e-d082-4607-a2d5-bf2cc12ce6b8",
        "colab": {
          "base_uri": "https://localhost:8080/",
          "height": 289
        }
      },
      "source": [
        "code1 = [] #container to hold he original codewords in a string form\n",
        "m,n = np.shape(code)\n",
        "for i in range(m):\n",
        "  code1.append(tostring(code[i,:]))\n",
        "code1"
      ],
      "execution_count": null,
      "outputs": [
        {
          "output_type": "execute_result",
          "data": {
            "text/plain": [
              "['0000000',\n",
              " '0001101',\n",
              " '0010011',\n",
              " '0011110',\n",
              " '0100110',\n",
              " '0101011',\n",
              " '0110101',\n",
              " '0111000',\n",
              " '1000111',\n",
              " '1001010',\n",
              " '1010100',\n",
              " '1011001',\n",
              " '1100001',\n",
              " '1101100',\n",
              " '1110010',\n",
              " '1111111']"
            ]
          },
          "metadata": {
            "tags": []
          },
          "execution_count": 11
        }
      ]
    },
    {
      "cell_type": "code",
      "metadata": {
        "id": "27uxL617C2gh"
      },
      "source": [
        "Table_grid = np.array(Table) #Array to print a table\n",
        "Table_grid.resize((2**hh1.k,2**hh1.k)) # Resize the table to (2^k + 1)x(2^k + 1)"
      ],
      "execution_count": null,
      "outputs": []
    },
    {
      "cell_type": "code",
      "metadata": {
        "id": "X6hURoihEMrR",
        "outputId": "b573de52-4cad-4ba2-a468-07f7eb88b9d4",
        "colab": {
          "base_uri": "https://localhost:8080/",
          "height": 34
        }
      },
      "source": [
        "np.shape(Table_grid)"
      ],
      "execution_count": null,
      "outputs": [
        {
          "output_type": "execute_result",
          "data": {
            "text/plain": [
              "(16, 16)"
            ]
          },
          "metadata": {
            "tags": []
          },
          "execution_count": 13
        }
      ]
    },
    {
      "cell_type": "code",
      "metadata": {
        "id": "eaHwyiMUForg"
      },
      "source": [
        "def gridprint(aray):\n",
        "  '''Custom function to print the table with clear grid lines'''\n",
        "  m,n = np.shape(aray)\n",
        "  for i in range(0,m):\n",
        "    for j in range(0,n):\n",
        "      print(aray[i][j] + '  |  ', end= '')\n",
        "    print('\\n------------------------------------------------------------------------------------------------------------------------------------------------------------------------------------------------') "
      ],
      "execution_count": null,
      "outputs": []
    },
    {
      "cell_type": "code",
      "metadata": {
        "id": "JpVs_2WOGZa_",
        "outputId": "246c6c4c-9d9b-4509-f585-6bcd1d8c58d1",
        "colab": {
          "base_uri": "https://localhost:8080/",
          "height": 561
        }
      },
      "source": [
        "gridprint(Table_grid) #Print the table"
      ],
      "execution_count": null,
      "outputs": [
        {
          "output_type": "stream",
          "text": [
            "0000000  |  0001101  |  0010011  |  0011110  |  0100110  |  0101011  |  0110101  |  0111000  |  1000111  |  1001010  |  1010100  |  1011001  |  1100001  |  1101100  |  1110010  |  1111111  |  \n",
            "------------------------------------------------------------------------------------------------------------------------------------------------------------------------------------------------\n",
            "0001101  |  0000000  |  0011110  |  0010011  |  0101011  |  0100110  |  0111000  |  0110101  |  1001010  |  1000111  |  1011001  |  1010100  |  1101100  |  1100001  |  1111111  |  1110010  |  \n",
            "------------------------------------------------------------------------------------------------------------------------------------------------------------------------------------------------\n",
            "0010011  |  0011110  |  0000000  |  0001101  |  0110101  |  0111000  |  0100110  |  0101011  |  1010100  |  1011001  |  1000111  |  1001010  |  1110010  |  1111111  |  1100001  |  1101100  |  \n",
            "------------------------------------------------------------------------------------------------------------------------------------------------------------------------------------------------\n",
            "0011110  |  0010011  |  0001101  |  0000000  |  0111000  |  0110101  |  0101011  |  0100110  |  1011001  |  1010100  |  1001010  |  1000111  |  1111111  |  1110010  |  1101100  |  1100001  |  \n",
            "------------------------------------------------------------------------------------------------------------------------------------------------------------------------------------------------\n",
            "0100110  |  0101011  |  0110101  |  0111000  |  0000000  |  0001101  |  0010011  |  0011110  |  1100001  |  1101100  |  1110010  |  1111111  |  1000111  |  1001010  |  1010100  |  1011001  |  \n",
            "------------------------------------------------------------------------------------------------------------------------------------------------------------------------------------------------\n",
            "0101011  |  0100110  |  0111000  |  0110101  |  0001101  |  0000000  |  0011110  |  0010011  |  1101100  |  1100001  |  1111111  |  1110010  |  1001010  |  1000111  |  1011001  |  1010100  |  \n",
            "------------------------------------------------------------------------------------------------------------------------------------------------------------------------------------------------\n",
            "0110101  |  0111000  |  0100110  |  0101011  |  0010011  |  0011110  |  0000000  |  0001101  |  1110010  |  1111111  |  1100001  |  1101100  |  1010100  |  1011001  |  1000111  |  1001010  |  \n",
            "------------------------------------------------------------------------------------------------------------------------------------------------------------------------------------------------\n",
            "0111000  |  0110101  |  0101011  |  0100110  |  0011110  |  0010011  |  0001101  |  0000000  |  1111111  |  1110010  |  1101100  |  1100001  |  1011001  |  1010100  |  1001010  |  1000111  |  \n",
            "------------------------------------------------------------------------------------------------------------------------------------------------------------------------------------------------\n",
            "1000111  |  1001010  |  1010100  |  1011001  |  1100001  |  1101100  |  1110010  |  1111111  |  0000000  |  0001101  |  0010011  |  0011110  |  0100110  |  0101011  |  0110101  |  0111000  |  \n",
            "------------------------------------------------------------------------------------------------------------------------------------------------------------------------------------------------\n",
            "1001010  |  1000111  |  1011001  |  1010100  |  1101100  |  1100001  |  1111111  |  1110010  |  0001101  |  0000000  |  0011110  |  0010011  |  0101011  |  0100110  |  0111000  |  0110101  |  \n",
            "------------------------------------------------------------------------------------------------------------------------------------------------------------------------------------------------\n",
            "1010100  |  1011001  |  1000111  |  1001010  |  1110010  |  1111111  |  1100001  |  1101100  |  0010011  |  0011110  |  0000000  |  0001101  |  0110101  |  0111000  |  0100110  |  0101011  |  \n",
            "------------------------------------------------------------------------------------------------------------------------------------------------------------------------------------------------\n",
            "1011001  |  1010100  |  1001010  |  1000111  |  1111111  |  1110010  |  1101100  |  1100001  |  0011110  |  0010011  |  0001101  |  0000000  |  0111000  |  0110101  |  0101011  |  0100110  |  \n",
            "------------------------------------------------------------------------------------------------------------------------------------------------------------------------------------------------\n",
            "1100001  |  1101100  |  1110010  |  1111111  |  1000111  |  1001010  |  1010100  |  1011001  |  0100110  |  0101011  |  0110101  |  0111000  |  0000000  |  0001101  |  0010011  |  0011110  |  \n",
            "------------------------------------------------------------------------------------------------------------------------------------------------------------------------------------------------\n",
            "1101100  |  1100001  |  1111111  |  1110010  |  1001010  |  1000111  |  1011001  |  1010100  |  0101011  |  0100110  |  0111000  |  0110101  |  0001101  |  0000000  |  0011110  |  0010011  |  \n",
            "------------------------------------------------------------------------------------------------------------------------------------------------------------------------------------------------\n",
            "1110010  |  1111111  |  1100001  |  1101100  |  1010100  |  1011001  |  1000111  |  1001010  |  0110101  |  0111000  |  0100110  |  0101011  |  0010011  |  0011110  |  0000000  |  0001101  |  \n",
            "------------------------------------------------------------------------------------------------------------------------------------------------------------------------------------------------\n",
            "1111111  |  1110010  |  1101100  |  1100001  |  1011001  |  1010100  |  1001010  |  1000111  |  0111000  |  0110101  |  0101011  |  0100110  |  0011110  |  0010011  |  0001101  |  0000000  |  \n",
            "------------------------------------------------------------------------------------------------------------------------------------------------------------------------------------------------\n"
          ],
          "name": "stdout"
        }
      ]
    },
    {
      "cell_type": "code",
      "metadata": {
        "id": "OPxugBBxHkm9",
        "outputId": "2e60953f-f402-481d-82f0-29dc71e3e611",
        "colab": {
          "base_uri": "https://localhost:8080/",
          "height": 1000
        }
      },
      "source": [
        "#Check if all elements in 'Table' are valid codewords(elements in 'code')\n",
        "count = 0\n",
        "bol = True\n",
        "for i in range(len(Table)):\n",
        "  if Table[i] in code1:\n",
        "    print(\"Resultant codeword is valid\")\n",
        "  else:\n",
        "    print(\"Not Valid\")\n",
        "    bol = False\n",
        "if bol == True:\n",
        "  print(\"All codewords are valid.Hence proved.\")"
      ],
      "execution_count": null,
      "outputs": [
        {
          "output_type": "stream",
          "text": [
            "Resultant codeword is valid\n",
            "Resultant codeword is valid\n",
            "Resultant codeword is valid\n",
            "Resultant codeword is valid\n",
            "Resultant codeword is valid\n",
            "Resultant codeword is valid\n",
            "Resultant codeword is valid\n",
            "Resultant codeword is valid\n",
            "Resultant codeword is valid\n",
            "Resultant codeword is valid\n",
            "Resultant codeword is valid\n",
            "Resultant codeword is valid\n",
            "Resultant codeword is valid\n",
            "Resultant codeword is valid\n",
            "Resultant codeword is valid\n",
            "Resultant codeword is valid\n",
            "Resultant codeword is valid\n",
            "Resultant codeword is valid\n",
            "Resultant codeword is valid\n",
            "Resultant codeword is valid\n",
            "Resultant codeword is valid\n",
            "Resultant codeword is valid\n",
            "Resultant codeword is valid\n",
            "Resultant codeword is valid\n",
            "Resultant codeword is valid\n",
            "Resultant codeword is valid\n",
            "Resultant codeword is valid\n",
            "Resultant codeword is valid\n",
            "Resultant codeword is valid\n",
            "Resultant codeword is valid\n",
            "Resultant codeword is valid\n",
            "Resultant codeword is valid\n",
            "Resultant codeword is valid\n",
            "Resultant codeword is valid\n",
            "Resultant codeword is valid\n",
            "Resultant codeword is valid\n",
            "Resultant codeword is valid\n",
            "Resultant codeword is valid\n",
            "Resultant codeword is valid\n",
            "Resultant codeword is valid\n",
            "Resultant codeword is valid\n",
            "Resultant codeword is valid\n",
            "Resultant codeword is valid\n",
            "Resultant codeword is valid\n",
            "Resultant codeword is valid\n",
            "Resultant codeword is valid\n",
            "Resultant codeword is valid\n",
            "Resultant codeword is valid\n",
            "Resultant codeword is valid\n",
            "Resultant codeword is valid\n",
            "Resultant codeword is valid\n",
            "Resultant codeword is valid\n",
            "Resultant codeword is valid\n",
            "Resultant codeword is valid\n",
            "Resultant codeword is valid\n",
            "Resultant codeword is valid\n",
            "Resultant codeword is valid\n",
            "Resultant codeword is valid\n",
            "Resultant codeword is valid\n",
            "Resultant codeword is valid\n",
            "Resultant codeword is valid\n",
            "Resultant codeword is valid\n",
            "Resultant codeword is valid\n",
            "Resultant codeword is valid\n",
            "Resultant codeword is valid\n",
            "Resultant codeword is valid\n",
            "Resultant codeword is valid\n",
            "Resultant codeword is valid\n",
            "Resultant codeword is valid\n",
            "Resultant codeword is valid\n",
            "Resultant codeword is valid\n",
            "Resultant codeword is valid\n",
            "Resultant codeword is valid\n",
            "Resultant codeword is valid\n",
            "Resultant codeword is valid\n",
            "Resultant codeword is valid\n",
            "Resultant codeword is valid\n",
            "Resultant codeword is valid\n",
            "Resultant codeword is valid\n",
            "Resultant codeword is valid\n",
            "Resultant codeword is valid\n",
            "Resultant codeword is valid\n",
            "Resultant codeword is valid\n",
            "Resultant codeword is valid\n",
            "Resultant codeword is valid\n",
            "Resultant codeword is valid\n",
            "Resultant codeword is valid\n",
            "Resultant codeword is valid\n",
            "Resultant codeword is valid\n",
            "Resultant codeword is valid\n",
            "Resultant codeword is valid\n",
            "Resultant codeword is valid\n",
            "Resultant codeword is valid\n",
            "Resultant codeword is valid\n",
            "Resultant codeword is valid\n",
            "Resultant codeword is valid\n",
            "Resultant codeword is valid\n",
            "Resultant codeword is valid\n",
            "Resultant codeword is valid\n",
            "Resultant codeword is valid\n",
            "Resultant codeword is valid\n",
            "Resultant codeword is valid\n",
            "Resultant codeword is valid\n",
            "Resultant codeword is valid\n",
            "Resultant codeword is valid\n",
            "Resultant codeword is valid\n",
            "Resultant codeword is valid\n",
            "Resultant codeword is valid\n",
            "Resultant codeword is valid\n",
            "Resultant codeword is valid\n",
            "Resultant codeword is valid\n",
            "Resultant codeword is valid\n",
            "Resultant codeword is valid\n",
            "Resultant codeword is valid\n",
            "Resultant codeword is valid\n",
            "Resultant codeword is valid\n",
            "Resultant codeword is valid\n",
            "Resultant codeword is valid\n",
            "Resultant codeword is valid\n",
            "Resultant codeword is valid\n",
            "Resultant codeword is valid\n",
            "Resultant codeword is valid\n",
            "Resultant codeword is valid\n",
            "Resultant codeword is valid\n",
            "Resultant codeword is valid\n",
            "Resultant codeword is valid\n",
            "Resultant codeword is valid\n",
            "Resultant codeword is valid\n",
            "Resultant codeword is valid\n",
            "Resultant codeword is valid\n",
            "Resultant codeword is valid\n",
            "Resultant codeword is valid\n",
            "Resultant codeword is valid\n",
            "Resultant codeword is valid\n",
            "Resultant codeword is valid\n",
            "Resultant codeword is valid\n",
            "Resultant codeword is valid\n",
            "Resultant codeword is valid\n",
            "Resultant codeword is valid\n",
            "Resultant codeword is valid\n",
            "Resultant codeword is valid\n",
            "Resultant codeword is valid\n",
            "Resultant codeword is valid\n",
            "Resultant codeword is valid\n",
            "Resultant codeword is valid\n",
            "Resultant codeword is valid\n",
            "Resultant codeword is valid\n",
            "Resultant codeword is valid\n",
            "Resultant codeword is valid\n",
            "Resultant codeword is valid\n",
            "Resultant codeword is valid\n",
            "Resultant codeword is valid\n",
            "Resultant codeword is valid\n",
            "Resultant codeword is valid\n",
            "Resultant codeword is valid\n",
            "Resultant codeword is valid\n",
            "Resultant codeword is valid\n",
            "Resultant codeword is valid\n",
            "Resultant codeword is valid\n",
            "Resultant codeword is valid\n",
            "Resultant codeword is valid\n",
            "Resultant codeword is valid\n",
            "Resultant codeword is valid\n",
            "Resultant codeword is valid\n",
            "Resultant codeword is valid\n",
            "Resultant codeword is valid\n",
            "Resultant codeword is valid\n",
            "Resultant codeword is valid\n",
            "Resultant codeword is valid\n",
            "Resultant codeword is valid\n",
            "Resultant codeword is valid\n",
            "Resultant codeword is valid\n",
            "Resultant codeword is valid\n",
            "Resultant codeword is valid\n",
            "Resultant codeword is valid\n",
            "Resultant codeword is valid\n",
            "Resultant codeword is valid\n",
            "Resultant codeword is valid\n",
            "Resultant codeword is valid\n",
            "Resultant codeword is valid\n",
            "Resultant codeword is valid\n",
            "Resultant codeword is valid\n",
            "Resultant codeword is valid\n",
            "Resultant codeword is valid\n",
            "Resultant codeword is valid\n",
            "Resultant codeword is valid\n",
            "Resultant codeword is valid\n",
            "Resultant codeword is valid\n",
            "Resultant codeword is valid\n",
            "Resultant codeword is valid\n",
            "Resultant codeword is valid\n",
            "Resultant codeword is valid\n",
            "Resultant codeword is valid\n",
            "Resultant codeword is valid\n",
            "Resultant codeword is valid\n",
            "Resultant codeword is valid\n",
            "Resultant codeword is valid\n",
            "Resultant codeword is valid\n",
            "Resultant codeword is valid\n",
            "Resultant codeword is valid\n",
            "Resultant codeword is valid\n",
            "Resultant codeword is valid\n",
            "Resultant codeword is valid\n",
            "Resultant codeword is valid\n",
            "Resultant codeword is valid\n",
            "Resultant codeword is valid\n",
            "Resultant codeword is valid\n",
            "Resultant codeword is valid\n",
            "Resultant codeword is valid\n",
            "Resultant codeword is valid\n",
            "Resultant codeword is valid\n",
            "Resultant codeword is valid\n",
            "Resultant codeword is valid\n",
            "Resultant codeword is valid\n",
            "Resultant codeword is valid\n",
            "Resultant codeword is valid\n",
            "Resultant codeword is valid\n",
            "Resultant codeword is valid\n",
            "Resultant codeword is valid\n",
            "Resultant codeword is valid\n",
            "Resultant codeword is valid\n",
            "Resultant codeword is valid\n",
            "Resultant codeword is valid\n",
            "Resultant codeword is valid\n",
            "Resultant codeword is valid\n",
            "Resultant codeword is valid\n",
            "Resultant codeword is valid\n",
            "Resultant codeword is valid\n",
            "Resultant codeword is valid\n",
            "Resultant codeword is valid\n",
            "Resultant codeword is valid\n",
            "Resultant codeword is valid\n",
            "Resultant codeword is valid\n",
            "Resultant codeword is valid\n",
            "Resultant codeword is valid\n",
            "Resultant codeword is valid\n",
            "Resultant codeword is valid\n",
            "Resultant codeword is valid\n",
            "Resultant codeword is valid\n",
            "Resultant codeword is valid\n",
            "Resultant codeword is valid\n",
            "Resultant codeword is valid\n",
            "Resultant codeword is valid\n",
            "Resultant codeword is valid\n",
            "Resultant codeword is valid\n",
            "Resultant codeword is valid\n",
            "Resultant codeword is valid\n",
            "Resultant codeword is valid\n",
            "Resultant codeword is valid\n",
            "Resultant codeword is valid\n",
            "Resultant codeword is valid\n",
            "Resultant codeword is valid\n",
            "Resultant codeword is valid\n",
            "Resultant codeword is valid\n",
            "Resultant codeword is valid\n",
            "Resultant codeword is valid\n",
            "All codewords are valid.Hence proved.\n"
          ],
          "name": "stdout"
        }
      ]
    }
  ]
}