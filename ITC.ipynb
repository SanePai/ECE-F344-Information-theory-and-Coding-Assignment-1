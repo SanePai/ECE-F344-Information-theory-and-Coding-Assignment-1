{
  "nbformat": 4,
  "nbformat_minor": 0,
  "metadata": {
    "colab": {
      "name": "ITC.ipynb",
      "provenance": [],
      "collapsed_sections": [],
      "include_colab_link": true
    },
    "kernelspec": {
      "name": "python3",
      "display_name": "Python 3"
    }
  },
  "cells": [
    {
      "cell_type": "markdown",
      "metadata": {
        "id": "view-in-github",
        "colab_type": "text"
      },
      "source": [
        "<a href=\"https://colab.research.google.com/github/SanePai/ECE-F344-Information-theory-and-Coding-Assignment-1/blob/main/ITC.ipynb\" target=\"_parent\"><img src=\"https://colab.research.google.com/assets/colab-badge.svg\" alt=\"Open In Colab\"/></a>"
      ]
    },
    {
      "cell_type": "code",
      "metadata": {
        "id": "95hqkOOj2xbQ",
        "outputId": "137a562f-6529-4400-bd95-55d851bf3d86",
        "colab": {
          "base_uri": "https://localhost:8080/",
          "height": 175
        }
      },
      "source": [
        "pip install scikit-dsp-comm"
      ],
      "execution_count": null,
      "outputs": [
        {
          "output_type": "stream",
          "text": [
            "Requirement already satisfied: scikit-dsp-comm in /usr/local/lib/python3.6/dist-packages (1.2.0)\n",
            "Requirement already satisfied: numpy in /usr/local/lib/python3.6/dist-packages (from scikit-dsp-comm) (1.18.5)\n",
            "Requirement already satisfied: scipy in /usr/local/lib/python3.6/dist-packages (from scikit-dsp-comm) (1.4.1)\n",
            "Requirement already satisfied: matplotlib in /usr/local/lib/python3.6/dist-packages (from scikit-dsp-comm) (3.2.2)\n",
            "Requirement already satisfied: pyparsing!=2.0.4,!=2.1.2,!=2.1.6,>=2.0.1 in /usr/local/lib/python3.6/dist-packages (from matplotlib->scikit-dsp-comm) (2.4.7)\n",
            "Requirement already satisfied: python-dateutil>=2.1 in /usr/local/lib/python3.6/dist-packages (from matplotlib->scikit-dsp-comm) (2.8.1)\n",
            "Requirement already satisfied: cycler>=0.10 in /usr/local/lib/python3.6/dist-packages (from matplotlib->scikit-dsp-comm) (0.10.0)\n",
            "Requirement already satisfied: kiwisolver>=1.0.1 in /usr/local/lib/python3.6/dist-packages (from matplotlib->scikit-dsp-comm) (1.2.0)\n",
            "Requirement already satisfied: six>=1.5 in /usr/local/lib/python3.6/dist-packages (from python-dateutil>=2.1->matplotlib->scikit-dsp-comm) (1.15.0)\n"
          ],
          "name": "stdout"
        }
      ]
    },
    {
      "cell_type": "code",
      "metadata": {
        "id": "S6oDKZS-17KK"
      },
      "source": [
        "import sk_dsp_comm.fec_block as block\n",
        "import numpy as np\n",
        "import pandas as pd"
      ],
      "execution_count": null,
      "outputs": []
    },
    {
      "cell_type": "code",
      "metadata": {
        "id": "BIODPh4ONXXs",
        "outputId": "df1d2002-f787-4862-9eab-e11bb989cf48",
        "colab": {
          "base_uri": "https://localhost:8080/",
          "height": 52
        }
      },
      "source": [
        "n = int(input(\"Enter n: \\t\")) #Input the n,k values for a hamming code\n",
        "k = int(input(\"Enter k: \\t\"))\n",
        "parity = n-k"
      ],
      "execution_count": null,
      "outputs": [
        {
          "output_type": "stream",
          "text": [
            "Enter n: \t7\n",
            "Enter k: \t4\n"
          ],
          "name": "stdout"
        }
      ]
    },
    {
      "cell_type": "code",
      "metadata": {
        "id": "JXXxElOE2qoS"
      },
      "source": [
        "hh1 = block.fec_hamming(parity) #Instantiating a fec_hamming class instance(hh1)"
      ],
      "execution_count": null,
      "outputs": []
    },
    {
      "cell_type": "code",
      "metadata": {
        "id": "3BjF3oyr28_7",
        "outputId": "b928c6ef-ae86-41d1-c360-06bb3836ec69",
        "colab": {
          "base_uri": "https://localhost:8080/",
          "height": 140
        }
      },
      "source": [
        "print(f\"n: {hh1.n} \\nk: {hh1.k}\\nGenerator Matrix:\\n{hh1.G}\") #n,k and generator matrix of the hamming code"
      ],
      "execution_count": null,
      "outputs": [
        {
          "output_type": "stream",
          "text": [
            "n: 7 \n",
            "k: 4\n",
            "Generator Matrix:\n",
            "[[1 0 0 0 1 1 1]\n",
            " [0 1 0 0 1 1 0]\n",
            " [0 0 1 0 0 1 1]\n",
            " [0 0 0 1 1 0 1]]\n"
          ],
          "name": "stdout"
        }
      ]
    },
    {
      "cell_type": "code",
      "metadata": {
        "id": "9xGSMXBo4bqU"
      },
      "source": [
        "msg_len = (2**hh1.k) - 1"
      ],
      "execution_count": null,
      "outputs": []
    },
    {
      "cell_type": "code",
      "metadata": {
        "id": "JAZv8CEg31OE",
        "outputId": "a049575f-89e8-4d46-aa3b-4bc98bbfe037",
        "colab": {
          "base_uri": "https://localhost:8080/",
          "height": 34
        }
      },
      "source": [
        "msg_array = [x for x in range(msg_len+1)]\n",
        "print(f\"Message array(Decimal Form): {msg_array}\") #Creating a decimal message array"
      ],
      "execution_count": null,
      "outputs": [
        {
          "output_type": "stream",
          "text": [
            "Message array(Decimal Form): [0, 1, 2, 3, 4, 5, 6, 7, 8, 9, 10, 11, 12, 13, 14, 15]\n"
          ],
          "name": "stdout"
        }
      ]
    },
    {
      "cell_type": "code",
      "metadata": {
        "id": "-Byc247T4zXy"
      },
      "source": [
        "def dToBi(n):\n",
        "  '''Returns a fixed length binary bit array for a given message'''  \n",
        "  return bin(n).replace(\"0b\",\"\").zfill(hh1.k) \n",
        "def tostring(aray):\n",
        "  '''Converts a bit array to a string'''\n",
        "  string = ''\n",
        "  aray = aray.tolist()\n",
        "  for i in range(len(aray)):\n",
        "    string = string + str(aray[i])\n",
        "  return string"
      ],
      "execution_count": null,
      "outputs": []
    },
    {
      "cell_type": "code",
      "metadata": {
        "id": "-k6qK20V3Rdl"
      },
      "source": [
        "def ham(msg):\n",
        "  '''Returns a hamming encoded message for a given input message'''\n",
        "  x = np.array([int(a) for a in dToBi(msg)])\n",
        "  y = hh1.hamm_encoder(x)\n",
        "  y = np.array([int(a) for a in y])\n",
        "  return y"
      ],
      "execution_count": null,
      "outputs": []
    },
    {
      "cell_type": "code",
      "metadata": {
        "id": "WzaEsY2S9qBe"
      },
      "source": [
        "code = [] #Empty list to hold codewords \n",
        "for i in msg_array:\n",
        "  code.append(ham(i))\n",
        "code = np.array(np.concatenate(code, axis=0)) #Concatenate the codeword(list to string)\n",
        "code.resize((2**hh1.k,hh1.n)) #Resize the codeword list\n",
        "msg_len = (2**hh1.k)-1\n",
        "Table = [] #Table of added codewords\n",
        "for i in range(msg_len+1):\n",
        "  for j in range(msg_len+1):\n",
        "    Table.append(tostring(code[i,:]^code[j,:]))\n"
      ],
      "execution_count": null,
      "outputs": []
    },
    {
      "cell_type": "code",
      "metadata": {
        "id": "pd2vKuT3JxJs",
        "outputId": "4da8a5f8-4273-448b-e2cd-21aa952b42f7",
        "colab": {
          "base_uri": "https://localhost:8080/",
          "height": 52
        }
      },
      "source": [
        "code1 = [] #container to hold he original codewords in a string form\n",
        "m,n = np.shape(code)\n",
        "for i in range(m):\n",
        "  code1.append(tostring(code[i,:]))\n",
        "print(f\"Codewords:\\n{code1}\") #All possible codewords"
      ],
      "execution_count": null,
      "outputs": [
        {
          "output_type": "stream",
          "text": [
            "Codewords:\n",
            "['0000000', '0001101', '0010011', '0011110', '0100110', '0101011', '0110101', '0111000', '1000111', '1001010', '1010100', '1011001', '1100001', '1101100', '1110010', '1111111']\n"
          ],
          "name": "stdout"
        }
      ]
    },
    {
      "cell_type": "code",
      "metadata": {
        "id": "27uxL617C2gh"
      },
      "source": [
        "Table_grid = np.array(Table) #Array to print a table\n",
        "Table_grid.resize((2**hh1.k,2**hh1.k)) # Resize the table to (2^k + 1)x(2^k + 1)"
      ],
      "execution_count": null,
      "outputs": []
    },
    {
      "cell_type": "code",
      "metadata": {
        "id": "X6hURoihEMrR",
        "outputId": "d6ca15ae-8343-4a88-c8b3-8df9381ef9ee",
        "colab": {
          "base_uri": "https://localhost:8080/",
          "height": 34
        }
      },
      "source": [
        "np.shape(Table_grid)"
      ],
      "execution_count": null,
      "outputs": [
        {
          "output_type": "execute_result",
          "data": {
            "text/plain": [
              "(16, 16)"
            ]
          },
          "metadata": {
            "tags": []
          },
          "execution_count": 13
        }
      ]
    },
    {
      "cell_type": "code",
      "metadata": {
        "id": "B3OqqV5KdMe-",
        "outputId": "4b16212f-6f98-42f1-ee7e-4e4e2467ed7d",
        "colab": {
          "base_uri": "https://localhost:8080/",
          "height": 556
        }
      },
      "source": [
        "Table_grid = pd.DataFrame(Table_grid, index = code1, columns = code1)\n",
        "print(\"Table:\\n\")\n",
        "display(Table_grid)"
      ],
      "execution_count": null,
      "outputs": [
        {
          "output_type": "stream",
          "text": [
            "Table:\n",
            "\n"
          ],
          "name": "stdout"
        },
        {
          "output_type": "display_data",
          "data": {
            "text/html": [
              "<div>\n",
              "<style scoped>\n",
              "    .dataframe tbody tr th:only-of-type {\n",
              "        vertical-align: middle;\n",
              "    }\n",
              "\n",
              "    .dataframe tbody tr th {\n",
              "        vertical-align: top;\n",
              "    }\n",
              "\n",
              "    .dataframe thead th {\n",
              "        text-align: right;\n",
              "    }\n",
              "</style>\n",
              "<table border=\"1\" class=\"dataframe\">\n",
              "  <thead>\n",
              "    <tr style=\"text-align: right;\">\n",
              "      <th></th>\n",
              "      <th>0000000</th>\n",
              "      <th>0001101</th>\n",
              "      <th>0010011</th>\n",
              "      <th>0011110</th>\n",
              "      <th>0100110</th>\n",
              "      <th>0101011</th>\n",
              "      <th>0110101</th>\n",
              "      <th>0111000</th>\n",
              "      <th>1000111</th>\n",
              "      <th>1001010</th>\n",
              "      <th>1010100</th>\n",
              "      <th>1011001</th>\n",
              "      <th>1100001</th>\n",
              "      <th>1101100</th>\n",
              "      <th>1110010</th>\n",
              "      <th>1111111</th>\n",
              "    </tr>\n",
              "  </thead>\n",
              "  <tbody>\n",
              "    <tr>\n",
              "      <th>0000000</th>\n",
              "      <td>0000000</td>\n",
              "      <td>0001101</td>\n",
              "      <td>0010011</td>\n",
              "      <td>0011110</td>\n",
              "      <td>0100110</td>\n",
              "      <td>0101011</td>\n",
              "      <td>0110101</td>\n",
              "      <td>0111000</td>\n",
              "      <td>1000111</td>\n",
              "      <td>1001010</td>\n",
              "      <td>1010100</td>\n",
              "      <td>1011001</td>\n",
              "      <td>1100001</td>\n",
              "      <td>1101100</td>\n",
              "      <td>1110010</td>\n",
              "      <td>1111111</td>\n",
              "    </tr>\n",
              "    <tr>\n",
              "      <th>0001101</th>\n",
              "      <td>0001101</td>\n",
              "      <td>0000000</td>\n",
              "      <td>0011110</td>\n",
              "      <td>0010011</td>\n",
              "      <td>0101011</td>\n",
              "      <td>0100110</td>\n",
              "      <td>0111000</td>\n",
              "      <td>0110101</td>\n",
              "      <td>1001010</td>\n",
              "      <td>1000111</td>\n",
              "      <td>1011001</td>\n",
              "      <td>1010100</td>\n",
              "      <td>1101100</td>\n",
              "      <td>1100001</td>\n",
              "      <td>1111111</td>\n",
              "      <td>1110010</td>\n",
              "    </tr>\n",
              "    <tr>\n",
              "      <th>0010011</th>\n",
              "      <td>0010011</td>\n",
              "      <td>0011110</td>\n",
              "      <td>0000000</td>\n",
              "      <td>0001101</td>\n",
              "      <td>0110101</td>\n",
              "      <td>0111000</td>\n",
              "      <td>0100110</td>\n",
              "      <td>0101011</td>\n",
              "      <td>1010100</td>\n",
              "      <td>1011001</td>\n",
              "      <td>1000111</td>\n",
              "      <td>1001010</td>\n",
              "      <td>1110010</td>\n",
              "      <td>1111111</td>\n",
              "      <td>1100001</td>\n",
              "      <td>1101100</td>\n",
              "    </tr>\n",
              "    <tr>\n",
              "      <th>0011110</th>\n",
              "      <td>0011110</td>\n",
              "      <td>0010011</td>\n",
              "      <td>0001101</td>\n",
              "      <td>0000000</td>\n",
              "      <td>0111000</td>\n",
              "      <td>0110101</td>\n",
              "      <td>0101011</td>\n",
              "      <td>0100110</td>\n",
              "      <td>1011001</td>\n",
              "      <td>1010100</td>\n",
              "      <td>1001010</td>\n",
              "      <td>1000111</td>\n",
              "      <td>1111111</td>\n",
              "      <td>1110010</td>\n",
              "      <td>1101100</td>\n",
              "      <td>1100001</td>\n",
              "    </tr>\n",
              "    <tr>\n",
              "      <th>0100110</th>\n",
              "      <td>0100110</td>\n",
              "      <td>0101011</td>\n",
              "      <td>0110101</td>\n",
              "      <td>0111000</td>\n",
              "      <td>0000000</td>\n",
              "      <td>0001101</td>\n",
              "      <td>0010011</td>\n",
              "      <td>0011110</td>\n",
              "      <td>1100001</td>\n",
              "      <td>1101100</td>\n",
              "      <td>1110010</td>\n",
              "      <td>1111111</td>\n",
              "      <td>1000111</td>\n",
              "      <td>1001010</td>\n",
              "      <td>1010100</td>\n",
              "      <td>1011001</td>\n",
              "    </tr>\n",
              "    <tr>\n",
              "      <th>0101011</th>\n",
              "      <td>0101011</td>\n",
              "      <td>0100110</td>\n",
              "      <td>0111000</td>\n",
              "      <td>0110101</td>\n",
              "      <td>0001101</td>\n",
              "      <td>0000000</td>\n",
              "      <td>0011110</td>\n",
              "      <td>0010011</td>\n",
              "      <td>1101100</td>\n",
              "      <td>1100001</td>\n",
              "      <td>1111111</td>\n",
              "      <td>1110010</td>\n",
              "      <td>1001010</td>\n",
              "      <td>1000111</td>\n",
              "      <td>1011001</td>\n",
              "      <td>1010100</td>\n",
              "    </tr>\n",
              "    <tr>\n",
              "      <th>0110101</th>\n",
              "      <td>0110101</td>\n",
              "      <td>0111000</td>\n",
              "      <td>0100110</td>\n",
              "      <td>0101011</td>\n",
              "      <td>0010011</td>\n",
              "      <td>0011110</td>\n",
              "      <td>0000000</td>\n",
              "      <td>0001101</td>\n",
              "      <td>1110010</td>\n",
              "      <td>1111111</td>\n",
              "      <td>1100001</td>\n",
              "      <td>1101100</td>\n",
              "      <td>1010100</td>\n",
              "      <td>1011001</td>\n",
              "      <td>1000111</td>\n",
              "      <td>1001010</td>\n",
              "    </tr>\n",
              "    <tr>\n",
              "      <th>0111000</th>\n",
              "      <td>0111000</td>\n",
              "      <td>0110101</td>\n",
              "      <td>0101011</td>\n",
              "      <td>0100110</td>\n",
              "      <td>0011110</td>\n",
              "      <td>0010011</td>\n",
              "      <td>0001101</td>\n",
              "      <td>0000000</td>\n",
              "      <td>1111111</td>\n",
              "      <td>1110010</td>\n",
              "      <td>1101100</td>\n",
              "      <td>1100001</td>\n",
              "      <td>1011001</td>\n",
              "      <td>1010100</td>\n",
              "      <td>1001010</td>\n",
              "      <td>1000111</td>\n",
              "    </tr>\n",
              "    <tr>\n",
              "      <th>1000111</th>\n",
              "      <td>1000111</td>\n",
              "      <td>1001010</td>\n",
              "      <td>1010100</td>\n",
              "      <td>1011001</td>\n",
              "      <td>1100001</td>\n",
              "      <td>1101100</td>\n",
              "      <td>1110010</td>\n",
              "      <td>1111111</td>\n",
              "      <td>0000000</td>\n",
              "      <td>0001101</td>\n",
              "      <td>0010011</td>\n",
              "      <td>0011110</td>\n",
              "      <td>0100110</td>\n",
              "      <td>0101011</td>\n",
              "      <td>0110101</td>\n",
              "      <td>0111000</td>\n",
              "    </tr>\n",
              "    <tr>\n",
              "      <th>1001010</th>\n",
              "      <td>1001010</td>\n",
              "      <td>1000111</td>\n",
              "      <td>1011001</td>\n",
              "      <td>1010100</td>\n",
              "      <td>1101100</td>\n",
              "      <td>1100001</td>\n",
              "      <td>1111111</td>\n",
              "      <td>1110010</td>\n",
              "      <td>0001101</td>\n",
              "      <td>0000000</td>\n",
              "      <td>0011110</td>\n",
              "      <td>0010011</td>\n",
              "      <td>0101011</td>\n",
              "      <td>0100110</td>\n",
              "      <td>0111000</td>\n",
              "      <td>0110101</td>\n",
              "    </tr>\n",
              "    <tr>\n",
              "      <th>1010100</th>\n",
              "      <td>1010100</td>\n",
              "      <td>1011001</td>\n",
              "      <td>1000111</td>\n",
              "      <td>1001010</td>\n",
              "      <td>1110010</td>\n",
              "      <td>1111111</td>\n",
              "      <td>1100001</td>\n",
              "      <td>1101100</td>\n",
              "      <td>0010011</td>\n",
              "      <td>0011110</td>\n",
              "      <td>0000000</td>\n",
              "      <td>0001101</td>\n",
              "      <td>0110101</td>\n",
              "      <td>0111000</td>\n",
              "      <td>0100110</td>\n",
              "      <td>0101011</td>\n",
              "    </tr>\n",
              "    <tr>\n",
              "      <th>1011001</th>\n",
              "      <td>1011001</td>\n",
              "      <td>1010100</td>\n",
              "      <td>1001010</td>\n",
              "      <td>1000111</td>\n",
              "      <td>1111111</td>\n",
              "      <td>1110010</td>\n",
              "      <td>1101100</td>\n",
              "      <td>1100001</td>\n",
              "      <td>0011110</td>\n",
              "      <td>0010011</td>\n",
              "      <td>0001101</td>\n",
              "      <td>0000000</td>\n",
              "      <td>0111000</td>\n",
              "      <td>0110101</td>\n",
              "      <td>0101011</td>\n",
              "      <td>0100110</td>\n",
              "    </tr>\n",
              "    <tr>\n",
              "      <th>1100001</th>\n",
              "      <td>1100001</td>\n",
              "      <td>1101100</td>\n",
              "      <td>1110010</td>\n",
              "      <td>1111111</td>\n",
              "      <td>1000111</td>\n",
              "      <td>1001010</td>\n",
              "      <td>1010100</td>\n",
              "      <td>1011001</td>\n",
              "      <td>0100110</td>\n",
              "      <td>0101011</td>\n",
              "      <td>0110101</td>\n",
              "      <td>0111000</td>\n",
              "      <td>0000000</td>\n",
              "      <td>0001101</td>\n",
              "      <td>0010011</td>\n",
              "      <td>0011110</td>\n",
              "    </tr>\n",
              "    <tr>\n",
              "      <th>1101100</th>\n",
              "      <td>1101100</td>\n",
              "      <td>1100001</td>\n",
              "      <td>1111111</td>\n",
              "      <td>1110010</td>\n",
              "      <td>1001010</td>\n",
              "      <td>1000111</td>\n",
              "      <td>1011001</td>\n",
              "      <td>1010100</td>\n",
              "      <td>0101011</td>\n",
              "      <td>0100110</td>\n",
              "      <td>0111000</td>\n",
              "      <td>0110101</td>\n",
              "      <td>0001101</td>\n",
              "      <td>0000000</td>\n",
              "      <td>0011110</td>\n",
              "      <td>0010011</td>\n",
              "    </tr>\n",
              "    <tr>\n",
              "      <th>1110010</th>\n",
              "      <td>1110010</td>\n",
              "      <td>1111111</td>\n",
              "      <td>1100001</td>\n",
              "      <td>1101100</td>\n",
              "      <td>1010100</td>\n",
              "      <td>1011001</td>\n",
              "      <td>1000111</td>\n",
              "      <td>1001010</td>\n",
              "      <td>0110101</td>\n",
              "      <td>0111000</td>\n",
              "      <td>0100110</td>\n",
              "      <td>0101011</td>\n",
              "      <td>0010011</td>\n",
              "      <td>0011110</td>\n",
              "      <td>0000000</td>\n",
              "      <td>0001101</td>\n",
              "    </tr>\n",
              "    <tr>\n",
              "      <th>1111111</th>\n",
              "      <td>1111111</td>\n",
              "      <td>1110010</td>\n",
              "      <td>1101100</td>\n",
              "      <td>1100001</td>\n",
              "      <td>1011001</td>\n",
              "      <td>1010100</td>\n",
              "      <td>1001010</td>\n",
              "      <td>1000111</td>\n",
              "      <td>0111000</td>\n",
              "      <td>0110101</td>\n",
              "      <td>0101011</td>\n",
              "      <td>0100110</td>\n",
              "      <td>0011110</td>\n",
              "      <td>0010011</td>\n",
              "      <td>0001101</td>\n",
              "      <td>0000000</td>\n",
              "    </tr>\n",
              "  </tbody>\n",
              "</table>\n",
              "</div>"
            ],
            "text/plain": [
              "         0000000  0001101  0010011  0011110  ...  1100001  1101100  1110010  1111111\n",
              "0000000  0000000  0001101  0010011  0011110  ...  1100001  1101100  1110010  1111111\n",
              "0001101  0001101  0000000  0011110  0010011  ...  1101100  1100001  1111111  1110010\n",
              "0010011  0010011  0011110  0000000  0001101  ...  1110010  1111111  1100001  1101100\n",
              "0011110  0011110  0010011  0001101  0000000  ...  1111111  1110010  1101100  1100001\n",
              "0100110  0100110  0101011  0110101  0111000  ...  1000111  1001010  1010100  1011001\n",
              "0101011  0101011  0100110  0111000  0110101  ...  1001010  1000111  1011001  1010100\n",
              "0110101  0110101  0111000  0100110  0101011  ...  1010100  1011001  1000111  1001010\n",
              "0111000  0111000  0110101  0101011  0100110  ...  1011001  1010100  1001010  1000111\n",
              "1000111  1000111  1001010  1010100  1011001  ...  0100110  0101011  0110101  0111000\n",
              "1001010  1001010  1000111  1011001  1010100  ...  0101011  0100110  0111000  0110101\n",
              "1010100  1010100  1011001  1000111  1001010  ...  0110101  0111000  0100110  0101011\n",
              "1011001  1011001  1010100  1001010  1000111  ...  0111000  0110101  0101011  0100110\n",
              "1100001  1100001  1101100  1110010  1111111  ...  0000000  0001101  0010011  0011110\n",
              "1101100  1101100  1100001  1111111  1110010  ...  0001101  0000000  0011110  0010011\n",
              "1110010  1110010  1111111  1100001  1101100  ...  0010011  0011110  0000000  0001101\n",
              "1111111  1111111  1110010  1101100  1100001  ...  0011110  0010011  0001101  0000000\n",
              "\n",
              "[16 rows x 16 columns]"
            ]
          },
          "metadata": {
            "tags": []
          }
        }
      ]
    },
    {
      "cell_type": "markdown",
      "metadata": {
        "id": "MoXed6GWqYDT"
      },
      "source": [
        "Property 1: The all zero codeword is always a codeword."
      ]
    },
    {
      "cell_type": "code",
      "metadata": {
        "id": "dP4LNwvUqYDU",
        "outputId": "b1ea0e8f-8c06-480c-fc4a-baa005c4ec6f",
        "colab": {
          "base_uri": "https://localhost:8080/",
          "height": 34
        }
      },
      "source": [
        "'0000000' in code1"
      ],
      "execution_count": null,
      "outputs": [
        {
          "output_type": "execute_result",
          "data": {
            "text/plain": [
              "True"
            ]
          },
          "metadata": {
            "tags": []
          },
          "execution_count": 15
        }
      ]
    },
    {
      "cell_type": "markdown",
      "metadata": {
        "id": "gtplcqokq4FG"
      },
      "source": [
        "Property 2: The sum of two codewords belonging to the code is also a codeword belonging to the code."
      ]
    },
    {
      "cell_type": "code",
      "metadata": {
        "id": "OPxugBBxHkm9",
        "outputId": "5b80b9b9-857d-4a96-c460-ff986f644d49",
        "colab": {
          "base_uri": "https://localhost:8080/",
          "height": 1000
        }
      },
      "source": [
        "#Check if all elements in 'Table' are valid codewords(elements in 'code')\n",
        "bol = True\n",
        "for i in range(len(Table)):\n",
        "  if Table[i] in code1:\n",
        "    print(\"Resultant codeword is valid\")\n",
        "  else:\n",
        "    print(\"Not Valid\")\n",
        "    bol = False\n",
        "if bol == True:\n",
        "  print(\"\\nAll codewords are valid.Hence proved.\")"
      ],
      "execution_count": null,
      "outputs": [
        {
          "output_type": "stream",
          "text": [
            "Resultant codeword is valid\n",
            "Resultant codeword is valid\n",
            "Resultant codeword is valid\n",
            "Resultant codeword is valid\n",
            "Resultant codeword is valid\n",
            "Resultant codeword is valid\n",
            "Resultant codeword is valid\n",
            "Resultant codeword is valid\n",
            "Resultant codeword is valid\n",
            "Resultant codeword is valid\n",
            "Resultant codeword is valid\n",
            "Resultant codeword is valid\n",
            "Resultant codeword is valid\n",
            "Resultant codeword is valid\n",
            "Resultant codeword is valid\n",
            "Resultant codeword is valid\n",
            "Resultant codeword is valid\n",
            "Resultant codeword is valid\n",
            "Resultant codeword is valid\n",
            "Resultant codeword is valid\n",
            "Resultant codeword is valid\n",
            "Resultant codeword is valid\n",
            "Resultant codeword is valid\n",
            "Resultant codeword is valid\n",
            "Resultant codeword is valid\n",
            "Resultant codeword is valid\n",
            "Resultant codeword is valid\n",
            "Resultant codeword is valid\n",
            "Resultant codeword is valid\n",
            "Resultant codeword is valid\n",
            "Resultant codeword is valid\n",
            "Resultant codeword is valid\n",
            "Resultant codeword is valid\n",
            "Resultant codeword is valid\n",
            "Resultant codeword is valid\n",
            "Resultant codeword is valid\n",
            "Resultant codeword is valid\n",
            "Resultant codeword is valid\n",
            "Resultant codeword is valid\n",
            "Resultant codeword is valid\n",
            "Resultant codeword is valid\n",
            "Resultant codeword is valid\n",
            "Resultant codeword is valid\n",
            "Resultant codeword is valid\n",
            "Resultant codeword is valid\n",
            "Resultant codeword is valid\n",
            "Resultant codeword is valid\n",
            "Resultant codeword is valid\n",
            "Resultant codeword is valid\n",
            "Resultant codeword is valid\n",
            "Resultant codeword is valid\n",
            "Resultant codeword is valid\n",
            "Resultant codeword is valid\n",
            "Resultant codeword is valid\n",
            "Resultant codeword is valid\n",
            "Resultant codeword is valid\n",
            "Resultant codeword is valid\n",
            "Resultant codeword is valid\n",
            "Resultant codeword is valid\n",
            "Resultant codeword is valid\n",
            "Resultant codeword is valid\n",
            "Resultant codeword is valid\n",
            "Resultant codeword is valid\n",
            "Resultant codeword is valid\n",
            "Resultant codeword is valid\n",
            "Resultant codeword is valid\n",
            "Resultant codeword is valid\n",
            "Resultant codeword is valid\n",
            "Resultant codeword is valid\n",
            "Resultant codeword is valid\n",
            "Resultant codeword is valid\n",
            "Resultant codeword is valid\n",
            "Resultant codeword is valid\n",
            "Resultant codeword is valid\n",
            "Resultant codeword is valid\n",
            "Resultant codeword is valid\n",
            "Resultant codeword is valid\n",
            "Resultant codeword is valid\n",
            "Resultant codeword is valid\n",
            "Resultant codeword is valid\n",
            "Resultant codeword is valid\n",
            "Resultant codeword is valid\n",
            "Resultant codeword is valid\n",
            "Resultant codeword is valid\n",
            "Resultant codeword is valid\n",
            "Resultant codeword is valid\n",
            "Resultant codeword is valid\n",
            "Resultant codeword is valid\n",
            "Resultant codeword is valid\n",
            "Resultant codeword is valid\n",
            "Resultant codeword is valid\n",
            "Resultant codeword is valid\n",
            "Resultant codeword is valid\n",
            "Resultant codeword is valid\n",
            "Resultant codeword is valid\n",
            "Resultant codeword is valid\n",
            "Resultant codeword is valid\n",
            "Resultant codeword is valid\n",
            "Resultant codeword is valid\n",
            "Resultant codeword is valid\n",
            "Resultant codeword is valid\n",
            "Resultant codeword is valid\n",
            "Resultant codeword is valid\n",
            "Resultant codeword is valid\n",
            "Resultant codeword is valid\n",
            "Resultant codeword is valid\n",
            "Resultant codeword is valid\n",
            "Resultant codeword is valid\n",
            "Resultant codeword is valid\n",
            "Resultant codeword is valid\n",
            "Resultant codeword is valid\n",
            "Resultant codeword is valid\n",
            "Resultant codeword is valid\n",
            "Resultant codeword is valid\n",
            "Resultant codeword is valid\n",
            "Resultant codeword is valid\n",
            "Resultant codeword is valid\n",
            "Resultant codeword is valid\n",
            "Resultant codeword is valid\n",
            "Resultant codeword is valid\n",
            "Resultant codeword is valid\n",
            "Resultant codeword is valid\n",
            "Resultant codeword is valid\n",
            "Resultant codeword is valid\n",
            "Resultant codeword is valid\n",
            "Resultant codeword is valid\n",
            "Resultant codeword is valid\n",
            "Resultant codeword is valid\n",
            "Resultant codeword is valid\n",
            "Resultant codeword is valid\n",
            "Resultant codeword is valid\n",
            "Resultant codeword is valid\n",
            "Resultant codeword is valid\n",
            "Resultant codeword is valid\n",
            "Resultant codeword is valid\n",
            "Resultant codeword is valid\n",
            "Resultant codeword is valid\n",
            "Resultant codeword is valid\n",
            "Resultant codeword is valid\n",
            "Resultant codeword is valid\n",
            "Resultant codeword is valid\n",
            "Resultant codeword is valid\n",
            "Resultant codeword is valid\n",
            "Resultant codeword is valid\n",
            "Resultant codeword is valid\n",
            "Resultant codeword is valid\n",
            "Resultant codeword is valid\n",
            "Resultant codeword is valid\n",
            "Resultant codeword is valid\n",
            "Resultant codeword is valid\n",
            "Resultant codeword is valid\n",
            "Resultant codeword is valid\n",
            "Resultant codeword is valid\n",
            "Resultant codeword is valid\n",
            "Resultant codeword is valid\n",
            "Resultant codeword is valid\n",
            "Resultant codeword is valid\n",
            "Resultant codeword is valid\n",
            "Resultant codeword is valid\n",
            "Resultant codeword is valid\n",
            "Resultant codeword is valid\n",
            "Resultant codeword is valid\n",
            "Resultant codeword is valid\n",
            "Resultant codeword is valid\n",
            "Resultant codeword is valid\n",
            "Resultant codeword is valid\n",
            "Resultant codeword is valid\n",
            "Resultant codeword is valid\n",
            "Resultant codeword is valid\n",
            "Resultant codeword is valid\n",
            "Resultant codeword is valid\n",
            "Resultant codeword is valid\n",
            "Resultant codeword is valid\n",
            "Resultant codeword is valid\n",
            "Resultant codeword is valid\n",
            "Resultant codeword is valid\n",
            "Resultant codeword is valid\n",
            "Resultant codeword is valid\n",
            "Resultant codeword is valid\n",
            "Resultant codeword is valid\n",
            "Resultant codeword is valid\n",
            "Resultant codeword is valid\n",
            "Resultant codeword is valid\n",
            "Resultant codeword is valid\n",
            "Resultant codeword is valid\n",
            "Resultant codeword is valid\n",
            "Resultant codeword is valid\n",
            "Resultant codeword is valid\n",
            "Resultant codeword is valid\n",
            "Resultant codeword is valid\n",
            "Resultant codeword is valid\n",
            "Resultant codeword is valid\n",
            "Resultant codeword is valid\n",
            "Resultant codeword is valid\n",
            "Resultant codeword is valid\n",
            "Resultant codeword is valid\n",
            "Resultant codeword is valid\n",
            "Resultant codeword is valid\n",
            "Resultant codeword is valid\n",
            "Resultant codeword is valid\n",
            "Resultant codeword is valid\n",
            "Resultant codeword is valid\n",
            "Resultant codeword is valid\n",
            "Resultant codeword is valid\n",
            "Resultant codeword is valid\n",
            "Resultant codeword is valid\n",
            "Resultant codeword is valid\n",
            "Resultant codeword is valid\n",
            "Resultant codeword is valid\n",
            "Resultant codeword is valid\n",
            "Resultant codeword is valid\n",
            "Resultant codeword is valid\n",
            "Resultant codeword is valid\n",
            "Resultant codeword is valid\n",
            "Resultant codeword is valid\n",
            "Resultant codeword is valid\n",
            "Resultant codeword is valid\n",
            "Resultant codeword is valid\n",
            "Resultant codeword is valid\n",
            "Resultant codeword is valid\n",
            "Resultant codeword is valid\n",
            "Resultant codeword is valid\n",
            "Resultant codeword is valid\n",
            "Resultant codeword is valid\n",
            "Resultant codeword is valid\n",
            "Resultant codeword is valid\n",
            "Resultant codeword is valid\n",
            "Resultant codeword is valid\n",
            "Resultant codeword is valid\n",
            "Resultant codeword is valid\n",
            "Resultant codeword is valid\n",
            "Resultant codeword is valid\n",
            "Resultant codeword is valid\n",
            "Resultant codeword is valid\n",
            "Resultant codeword is valid\n",
            "Resultant codeword is valid\n",
            "Resultant codeword is valid\n",
            "Resultant codeword is valid\n",
            "Resultant codeword is valid\n",
            "Resultant codeword is valid\n",
            "Resultant codeword is valid\n",
            "Resultant codeword is valid\n",
            "Resultant codeword is valid\n",
            "Resultant codeword is valid\n",
            "Resultant codeword is valid\n",
            "Resultant codeword is valid\n",
            "Resultant codeword is valid\n",
            "Resultant codeword is valid\n",
            "Resultant codeword is valid\n",
            "Resultant codeword is valid\n",
            "Resultant codeword is valid\n",
            "Resultant codeword is valid\n",
            "Resultant codeword is valid\n",
            "Resultant codeword is valid\n",
            "Resultant codeword is valid\n",
            "Resultant codeword is valid\n",
            "\n",
            "All codewords are valid.Hence proved.\n"
          ],
          "name": "stdout"
        }
      ]
    },
    {
      "cell_type": "markdown",
      "metadata": {
        "id": "qbn_TGE8rBj1"
      },
      "source": [
        "Property 3: The minimum Hamming distance between two codewords of a linear block code is equal to the minimum Hammingweight of any non-zero codeword, i.e., d* = w*."
      ]
    },
    {
      "cell_type": "code",
      "metadata": {
        "id": "fbis6BLwb66P",
        "outputId": "88ec9c3b-7da1-4af7-f5d3-bc42d8f4ab54",
        "colab": {
          "base_uri": "https://localhost:8080/",
          "height": 34
        }
      },
      "source": [
        "code_xor = []\n",
        "for i in range(msg_len+1):\n",
        "  for j in range(msg_len+1):\n",
        "    if i == j:\n",
        "      continue\n",
        "    code_xor.append(np.count_nonzero(code[i,:]^code[j,:]))\n",
        "min_dist = np.min(code_xor) #Minimum hamming distance\n",
        "weights = []\n",
        "for i in range(1, msg_len+1):\n",
        "  weights.append(np.count_nonzero(code[i,:]^code[0,:])) #Excluded all zeros as weight will be zero\n",
        "min_weight = np.min(weights)\n",
        "\n",
        "min_weight == min_dist"
      ],
      "execution_count": null,
      "outputs": [
        {
          "output_type": "execute_result",
          "data": {
            "text/plain": [
              "True"
            ]
          },
          "metadata": {
            "tags": []
          },
          "execution_count": 17
        }
      ]
    }
  ]
}